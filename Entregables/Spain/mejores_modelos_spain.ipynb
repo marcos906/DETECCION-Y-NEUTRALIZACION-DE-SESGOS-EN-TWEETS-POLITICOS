{
 "cells": [
  {
   "cell_type": "code",
   "execution_count": 22,
   "id": "f9e51ed5-0b7c-4eb5-881d-3abfbb8af7d2",
   "metadata": {},
   "outputs": [
    {
     "name": "stdout",
     "output_type": "stream",
     "text": [
      "🔎 Usando 5 variables GloVe con |d| > 0.1\n",
      "\n",
      "📦 Fold 1/5\n"
     ]
    },
    {
     "name": "stderr",
     "output_type": "stream",
     "text": [
      "Fold 1 Epoch 1: 100%|██████████| 147/147 [00:04<00:00, 31.72it/s]\n"
     ]
    },
    {
     "name": "stdout",
     "output_type": "stream",
     "text": [
      "🔁 Epoch 1 loss: 0.6925\n",
      "✅ F1: 0.4350, Precision: 0.5767, Recall: 0.5147\n"
     ]
    },
    {
     "name": "stderr",
     "output_type": "stream",
     "text": [
      "Fold 1 Epoch 2: 100%|██████████| 147/147 [00:04<00:00, 31.59it/s]\n"
     ]
    },
    {
     "name": "stdout",
     "output_type": "stream",
     "text": [
      "🔁 Epoch 2 loss: 0.6896\n",
      "✅ F1: 0.3943, Precision: 0.5002, Recall: 0.5001\n"
     ]
    },
    {
     "name": "stderr",
     "output_type": "stream",
     "text": [
      "Fold 1 Epoch 3: 100%|██████████| 147/147 [00:04<00:00, 31.49it/s]\n"
     ]
    },
    {
     "name": "stdout",
     "output_type": "stream",
     "text": [
      "🔁 Epoch 3 loss: 0.6875\n",
      "✅ F1: 0.4724, Precision: 0.5612, Recall: 0.5230\n"
     ]
    },
    {
     "name": "stderr",
     "output_type": "stream",
     "text": [
      "Fold 1 Epoch 4: 100%|██████████| 147/147 [00:04<00:00, 31.36it/s]\n"
     ]
    },
    {
     "name": "stdout",
     "output_type": "stream",
     "text": [
      "🔁 Epoch 4 loss: 0.6782\n",
      "✅ F1: 0.5425, Precision: 0.5439, Recall: 0.5457\n"
     ]
    },
    {
     "name": "stderr",
     "output_type": "stream",
     "text": [
      "Fold 1 Epoch 5: 100%|██████████| 147/147 [00:04<00:00, 31.77it/s]\n"
     ]
    },
    {
     "name": "stdout",
     "output_type": "stream",
     "text": [
      "🔁 Epoch 5 loss: 0.6680\n",
      "✅ F1: 0.5429, Precision: 0.5835, Recall: 0.5801\n"
     ]
    },
    {
     "name": "stderr",
     "output_type": "stream",
     "text": [
      "Fold 1 Epoch 6: 100%|██████████| 147/147 [00:04<00:00, 31.69it/s]\n"
     ]
    },
    {
     "name": "stdout",
     "output_type": "stream",
     "text": [
      "🔁 Epoch 6 loss: 0.6557\n",
      "✅ F1: 0.5964, Precision: 0.5988, Recall: 0.5954\n"
     ]
    },
    {
     "name": "stderr",
     "output_type": "stream",
     "text": [
      "Fold 1 Epoch 7: 100%|██████████| 147/147 [00:04<00:00, 31.57it/s]\n"
     ]
    },
    {
     "name": "stdout",
     "output_type": "stream",
     "text": [
      "🔁 Epoch 7 loss: 0.6355\n",
      "✅ F1: 0.5642, Precision: 0.5698, Recall: 0.5734\n"
     ]
    },
    {
     "name": "stderr",
     "output_type": "stream",
     "text": [
      "Fold 1 Epoch 8: 100%|██████████| 147/147 [00:04<00:00, 31.50it/s]\n"
     ]
    },
    {
     "name": "stdout",
     "output_type": "stream",
     "text": [
      "🔁 Epoch 8 loss: 0.6210\n",
      "✅ F1: 0.5899, Precision: 0.5894, Recall: 0.5907\n"
     ]
    },
    {
     "name": "stderr",
     "output_type": "stream",
     "text": [
      "Fold 1 Epoch 9: 100%|██████████| 147/147 [00:04<00:00, 31.44it/s]\n"
     ]
    },
    {
     "name": "stdout",
     "output_type": "stream",
     "text": [
      "🔁 Epoch 9 loss: 0.6093\n",
      "✅ F1: 0.5733, Precision: 0.6054, Recall: 0.5790\n"
     ]
    },
    {
     "name": "stderr",
     "output_type": "stream",
     "text": [
      "Fold 1 Epoch 10: 100%|██████████| 147/147 [00:04<00:00, 31.38it/s]\n"
     ]
    },
    {
     "name": "stdout",
     "output_type": "stream",
     "text": [
      "🔁 Epoch 10 loss: 0.5782\n",
      "✅ F1: 0.5916, Precision: 0.5911, Recall: 0.5931\n",
      "⏹️ Early stopping\n",
      "📊 Matriz de confusión:\n",
      "[[234 123]\n",
      " [107 121]]\n",
      "              precision    recall  f1-score   support\n",
      "\n",
      "        male       0.69      0.66      0.67       357\n",
      "      female       0.50      0.53      0.51       228\n",
      "\n",
      "    accuracy                           0.61       585\n",
      "   macro avg       0.59      0.59      0.59       585\n",
      "weighted avg       0.61      0.61      0.61       585\n",
      "\n",
      "\n",
      "📦 Fold 2/5\n"
     ]
    },
    {
     "name": "stderr",
     "output_type": "stream",
     "text": [
      "Fold 2 Epoch 1: 100%|██████████| 147/147 [00:04<00:00, 31.14it/s]\n"
     ]
    },
    {
     "name": "stdout",
     "output_type": "stream",
     "text": [
      "🔁 Epoch 1 loss: 0.6933\n",
      "✅ F1: 0.4596, Precision: 0.5368, Recall: 0.5136\n"
     ]
    },
    {
     "name": "stderr",
     "output_type": "stream",
     "text": [
      "Fold 2 Epoch 2: 100%|██████████| 147/147 [00:04<00:00, 31.18it/s]\n"
     ]
    },
    {
     "name": "stdout",
     "output_type": "stream",
     "text": [
      "🔁 Epoch 2 loss: 0.6906\n",
      "✅ F1: 0.4861, Precision: 0.5323, Recall: 0.5177\n"
     ]
    },
    {
     "name": "stderr",
     "output_type": "stream",
     "text": [
      "Fold 2 Epoch 3: 100%|██████████| 147/147 [00:04<00:00, 31.11it/s]\n"
     ]
    },
    {
     "name": "stdout",
     "output_type": "stream",
     "text": [
      "🔁 Epoch 3 loss: 0.6848\n",
      "✅ F1: 0.5536, Precision: 0.5544, Recall: 0.5532\n"
     ]
    },
    {
     "name": "stderr",
     "output_type": "stream",
     "text": [
      "Fold 2 Epoch 4: 100%|██████████| 147/147 [00:04<00:00, 31.09it/s]\n"
     ]
    },
    {
     "name": "stdout",
     "output_type": "stream",
     "text": [
      "🔁 Epoch 4 loss: 0.6738\n",
      "✅ F1: 0.4955, Precision: 0.5636, Recall: 0.5309\n"
     ]
    },
    {
     "name": "stderr",
     "output_type": "stream",
     "text": [
      "Fold 2 Epoch 5: 100%|██████████| 147/147 [00:04<00:00, 31.06it/s]\n"
     ]
    },
    {
     "name": "stdout",
     "output_type": "stream",
     "text": [
      "🔁 Epoch 5 loss: 0.6636\n",
      "✅ F1: 0.5681, Precision: 0.5690, Recall: 0.5676\n"
     ]
    },
    {
     "name": "stderr",
     "output_type": "stream",
     "text": [
      "Fold 2 Epoch 6: 100%|██████████| 147/147 [00:04<00:00, 31.10it/s]\n"
     ]
    },
    {
     "name": "stdout",
     "output_type": "stream",
     "text": [
      "🔁 Epoch 6 loss: 0.6540\n",
      "✅ F1: 0.5519, Precision: 0.5738, Recall: 0.5752\n"
     ]
    },
    {
     "name": "stderr",
     "output_type": "stream",
     "text": [
      "Fold 2 Epoch 7: 100%|██████████| 147/147 [00:04<00:00, 31.03it/s]\n"
     ]
    },
    {
     "name": "stdout",
     "output_type": "stream",
     "text": [
      "🔁 Epoch 7 loss: 0.6358\n",
      "✅ F1: 0.5735, Precision: 0.5838, Recall: 0.5877\n"
     ]
    },
    {
     "name": "stderr",
     "output_type": "stream",
     "text": [
      "Fold 2 Epoch 8: 100%|██████████| 147/147 [00:04<00:00, 31.01it/s]\n"
     ]
    },
    {
     "name": "stdout",
     "output_type": "stream",
     "text": [
      "🔁 Epoch 8 loss: 0.6176\n",
      "✅ F1: 0.6002, Precision: 0.5996, Recall: 0.6017\n"
     ]
    },
    {
     "name": "stderr",
     "output_type": "stream",
     "text": [
      "Fold 2 Epoch 9: 100%|██████████| 147/147 [00:04<00:00, 30.98it/s]\n"
     ]
    },
    {
     "name": "stdout",
     "output_type": "stream",
     "text": [
      "🔁 Epoch 9 loss: 0.5988\n",
      "✅ F1: 0.5641, Precision: 0.5769, Recall: 0.5801\n"
     ]
    },
    {
     "name": "stderr",
     "output_type": "stream",
     "text": [
      "Fold 2 Epoch 10: 100%|██████████| 147/147 [00:04<00:00, 30.97it/s]\n"
     ]
    },
    {
     "name": "stdout",
     "output_type": "stream",
     "text": [
      "🔁 Epoch 10 loss: 0.5777\n",
      "✅ F1: 0.5893, Precision: 0.5889, Recall: 0.5899\n",
      "📊 Matriz de confusión:\n",
      "[[238 119]\n",
      " [111 117]]\n",
      "              precision    recall  f1-score   support\n",
      "\n",
      "        male       0.68      0.67      0.67       357\n",
      "      female       0.50      0.51      0.50       228\n",
      "\n",
      "    accuracy                           0.61       585\n",
      "   macro avg       0.59      0.59      0.59       585\n",
      "weighted avg       0.61      0.61      0.61       585\n",
      "\n",
      "\n",
      "📦 Fold 3/5\n"
     ]
    },
    {
     "name": "stderr",
     "output_type": "stream",
     "text": [
      "Fold 3 Epoch 1: 100%|██████████| 147/147 [00:04<00:00, 30.88it/s]\n"
     ]
    },
    {
     "name": "stdout",
     "output_type": "stream",
     "text": [
      "🔁 Epoch 1 loss: 0.6942\n",
      "✅ F1: 0.4897, Precision: 0.5279, Recall: 0.5165\n"
     ]
    },
    {
     "name": "stderr",
     "output_type": "stream",
     "text": [
      "Fold 3 Epoch 2: 100%|██████████| 147/147 [00:04<00:00, 30.89it/s]\n"
     ]
    },
    {
     "name": "stdout",
     "output_type": "stream",
     "text": [
      "🔁 Epoch 2 loss: 0.6909\n",
      "✅ F1: 0.5175, Precision: 0.5374, Recall: 0.5282\n"
     ]
    },
    {
     "name": "stderr",
     "output_type": "stream",
     "text": [
      "Fold 3 Epoch 3: 100%|██████████| 147/147 [00:04<00:00, 30.91it/s]\n"
     ]
    },
    {
     "name": "stdout",
     "output_type": "stream",
     "text": [
      "🔁 Epoch 3 loss: 0.6870\n",
      "✅ F1: 0.5385, Precision: 0.5664, Recall: 0.5665\n"
     ]
    },
    {
     "name": "stderr",
     "output_type": "stream",
     "text": [
      "Fold 3 Epoch 4: 100%|██████████| 147/147 [00:04<00:00, 30.96it/s]\n"
     ]
    },
    {
     "name": "stdout",
     "output_type": "stream",
     "text": [
      "🔁 Epoch 4 loss: 0.6822\n",
      "✅ F1: 0.5510, Precision: 0.5581, Recall: 0.5611\n"
     ]
    },
    {
     "name": "stderr",
     "output_type": "stream",
     "text": [
      "Fold 3 Epoch 5: 100%|██████████| 147/147 [00:04<00:00, 30.91it/s]\n"
     ]
    },
    {
     "name": "stdout",
     "output_type": "stream",
     "text": [
      "🔁 Epoch 5 loss: 0.6714\n",
      "✅ F1: 0.5269, Precision: 0.6067, Recall: 0.5889\n"
     ]
    },
    {
     "name": "stderr",
     "output_type": "stream",
     "text": [
      "Fold 3 Epoch 6: 100%|██████████| 147/147 [00:04<00:00, 30.97it/s]\n"
     ]
    },
    {
     "name": "stdout",
     "output_type": "stream",
     "text": [
      "🔁 Epoch 6 loss: 0.6591\n",
      "✅ F1: 0.5833, Precision: 0.5840, Recall: 0.5829\n"
     ]
    },
    {
     "name": "stderr",
     "output_type": "stream",
     "text": [
      "Fold 3 Epoch 7: 100%|██████████| 147/147 [00:04<00:00, 30.95it/s]\n"
     ]
    },
    {
     "name": "stdout",
     "output_type": "stream",
     "text": [
      "🔁 Epoch 7 loss: 0.6479\n",
      "✅ F1: 0.5678, Precision: 0.6124, Recall: 0.5772\n"
     ]
    },
    {
     "name": "stderr",
     "output_type": "stream",
     "text": [
      "Fold 3 Epoch 8: 100%|██████████| 147/147 [00:04<00:00, 30.95it/s]\n"
     ]
    },
    {
     "name": "stdout",
     "output_type": "stream",
     "text": [
      "🔁 Epoch 8 loss: 0.6247\n",
      "✅ F1: 0.5972, Precision: 0.6031, Recall: 0.6085\n"
     ]
    },
    {
     "name": "stderr",
     "output_type": "stream",
     "text": [
      "Fold 3 Epoch 9: 100%|██████████| 147/147 [00:04<00:00, 30.94it/s]\n"
     ]
    },
    {
     "name": "stdout",
     "output_type": "stream",
     "text": [
      "🔁 Epoch 9 loss: 0.6140\n",
      "✅ F1: 0.5953, Precision: 0.5971, Recall: 0.6018\n"
     ]
    },
    {
     "name": "stderr",
     "output_type": "stream",
     "text": [
      "Fold 3 Epoch 10: 100%|██████████| 147/147 [00:04<00:00, 30.89it/s]\n"
     ]
    },
    {
     "name": "stdout",
     "output_type": "stream",
     "text": [
      "🔁 Epoch 10 loss: 0.5928\n",
      "✅ F1: 0.5938, Precision: 0.6101, Recall: 0.6142\n",
      "📊 Matriz de confusión:\n",
      "[[189 169]\n",
      " [ 68 159]]\n",
      "              precision    recall  f1-score   support\n",
      "\n",
      "        male       0.74      0.53      0.61       358\n",
      "      female       0.48      0.70      0.57       227\n",
      "\n",
      "    accuracy                           0.59       585\n",
      "   macro avg       0.61      0.61      0.59       585\n",
      "weighted avg       0.64      0.59      0.60       585\n",
      "\n",
      "\n",
      "📦 Fold 4/5\n"
     ]
    },
    {
     "name": "stderr",
     "output_type": "stream",
     "text": [
      "Fold 4 Epoch 1: 100%|██████████| 147/147 [00:04<00:00, 31.00it/s]\n"
     ]
    },
    {
     "name": "stdout",
     "output_type": "stream",
     "text": [
      "🔁 Epoch 1 loss: 0.6932\n",
      "✅ F1: 0.5278, Precision: 0.5741, Recall: 0.5463\n"
     ]
    },
    {
     "name": "stderr",
     "output_type": "stream",
     "text": [
      "Fold 4 Epoch 2: 100%|██████████| 147/147 [00:04<00:00, 31.02it/s]\n"
     ]
    },
    {
     "name": "stdout",
     "output_type": "stream",
     "text": [
      "🔁 Epoch 2 loss: 0.6896\n",
      "✅ F1: 0.5111, Precision: 0.5906, Recall: 0.5436\n"
     ]
    },
    {
     "name": "stderr",
     "output_type": "stream",
     "text": [
      "Fold 4 Epoch 3: 100%|██████████| 147/147 [00:04<00:00, 31.00it/s]\n"
     ]
    },
    {
     "name": "stdout",
     "output_type": "stream",
     "text": [
      "🔁 Epoch 3 loss: 0.6847\n",
      "✅ F1: 0.5605, Precision: 0.5602, Recall: 0.5615\n"
     ]
    },
    {
     "name": "stderr",
     "output_type": "stream",
     "text": [
      "Fold 4 Epoch 4: 100%|██████████| 147/147 [00:04<00:00, 31.00it/s]\n"
     ]
    },
    {
     "name": "stdout",
     "output_type": "stream",
     "text": [
      "🔁 Epoch 4 loss: 0.6825\n",
      "✅ F1: 0.5811, Precision: 0.5819, Recall: 0.5807\n"
     ]
    },
    {
     "name": "stderr",
     "output_type": "stream",
     "text": [
      "Fold 4 Epoch 5: 100%|██████████| 147/147 [00:04<00:00, 30.98it/s]\n"
     ]
    },
    {
     "name": "stdout",
     "output_type": "stream",
     "text": [
      "🔁 Epoch 5 loss: 0.6654\n",
      "✅ F1: 0.5045, Precision: 0.6056, Recall: 0.5798\n"
     ]
    },
    {
     "name": "stderr",
     "output_type": "stream",
     "text": [
      "Fold 4 Epoch 6: 100%|██████████| 147/147 [00:04<00:00, 31.01it/s]\n"
     ]
    },
    {
     "name": "stdout",
     "output_type": "stream",
     "text": [
      "🔁 Epoch 6 loss: 0.6507\n",
      "✅ F1: 0.5846, Precision: 0.6010, Recall: 0.5855\n"
     ]
    },
    {
     "name": "stderr",
     "output_type": "stream",
     "text": [
      "Fold 4 Epoch 7: 100%|██████████| 147/147 [00:04<00:00, 31.06it/s]\n"
     ]
    },
    {
     "name": "stdout",
     "output_type": "stream",
     "text": [
      "🔁 Epoch 7 loss: 0.6394\n",
      "✅ F1: 0.6180, Precision: 0.6172, Recall: 0.6209\n"
     ]
    },
    {
     "name": "stderr",
     "output_type": "stream",
     "text": [
      "Fold 4 Epoch 8: 100%|██████████| 147/147 [00:04<00:00, 31.05it/s]\n"
     ]
    },
    {
     "name": "stdout",
     "output_type": "stream",
     "text": [
      "🔁 Epoch 8 loss: 0.6167\n",
      "✅ F1: 0.6256, Precision: 0.6247, Recall: 0.6279\n"
     ]
    },
    {
     "name": "stderr",
     "output_type": "stream",
     "text": [
      "Fold 4 Epoch 9: 100%|██████████| 147/147 [00:04<00:00, 30.98it/s]\n"
     ]
    },
    {
     "name": "stdout",
     "output_type": "stream",
     "text": [
      "🔁 Epoch 9 loss: 0.6036\n",
      "✅ F1: 0.5879, Precision: 0.6134, Recall: 0.6150\n"
     ]
    },
    {
     "name": "stderr",
     "output_type": "stream",
     "text": [
      "Fold 4 Epoch 10: 100%|██████████| 147/147 [00:04<00:00, 30.96it/s]\n"
     ]
    },
    {
     "name": "stdout",
     "output_type": "stream",
     "text": [
      "🔁 Epoch 10 loss: 0.5804\n",
      "✅ F1: 0.5841, Precision: 0.6283, Recall: 0.6235\n",
      "📊 Matriz de confusión:\n",
      "[[161 197]\n",
      " [ 46 181]]\n",
      "              precision    recall  f1-score   support\n",
      "\n",
      "        male       0.78      0.45      0.57       358\n",
      "      female       0.48      0.80      0.60       227\n",
      "\n",
      "    accuracy                           0.58       585\n",
      "   macro avg       0.63      0.62      0.58       585\n",
      "weighted avg       0.66      0.58      0.58       585\n",
      "\n",
      "\n",
      "📦 Fold 5/5\n"
     ]
    },
    {
     "name": "stderr",
     "output_type": "stream",
     "text": [
      "Fold 5 Epoch 1: 100%|██████████| 147/147 [00:04<00:00, 31.02it/s]\n"
     ]
    },
    {
     "name": "stdout",
     "output_type": "stream",
     "text": [
      "🔁 Epoch 1 loss: 0.6927\n",
      "✅ F1: 0.4571, Precision: 0.5449, Recall: 0.5150\n"
     ]
    },
    {
     "name": "stderr",
     "output_type": "stream",
     "text": [
      "Fold 5 Epoch 2: 100%|██████████| 147/147 [00:04<00:00, 31.07it/s]\n"
     ]
    },
    {
     "name": "stdout",
     "output_type": "stream",
     "text": [
      "🔁 Epoch 2 loss: 0.6900\n",
      "✅ F1: 0.5549, Precision: 0.5566, Recall: 0.5546\n"
     ]
    },
    {
     "name": "stderr",
     "output_type": "stream",
     "text": [
      "Fold 5 Epoch 3: 100%|██████████| 147/147 [00:04<00:00, 31.03it/s]\n"
     ]
    },
    {
     "name": "stdout",
     "output_type": "stream",
     "text": [
      "🔁 Epoch 3 loss: 0.6881\n",
      "✅ F1: 0.4830, Precision: 0.5551, Recall: 0.5245\n"
     ]
    },
    {
     "name": "stderr",
     "output_type": "stream",
     "text": [
      "Fold 5 Epoch 4: 100%|██████████| 147/147 [00:04<00:00, 31.04it/s]\n"
     ]
    },
    {
     "name": "stdout",
     "output_type": "stream",
     "text": [
      "🔁 Epoch 4 loss: 0.6802\n",
      "✅ F1: 0.5492, Precision: 0.5890, Recall: 0.5859\n"
     ]
    },
    {
     "name": "stderr",
     "output_type": "stream",
     "text": [
      "Fold 5 Epoch 5: 100%|██████████| 147/147 [00:04<00:00, 31.01it/s]\n"
     ]
    },
    {
     "name": "stdout",
     "output_type": "stream",
     "text": [
      "🔁 Epoch 5 loss: 0.6662\n",
      "✅ F1: 0.5444, Precision: 0.5807, Recall: 0.5561\n"
     ]
    },
    {
     "name": "stderr",
     "output_type": "stream",
     "text": [
      "Fold 5 Epoch 6: 100%|██████████| 147/147 [00:04<00:00, 31.05it/s]\n"
     ]
    },
    {
     "name": "stdout",
     "output_type": "stream",
     "text": [
      "🔁 Epoch 6 loss: 0.6545\n",
      "✅ F1: 0.5641, Precision: 0.5671, Recall: 0.5705\n"
     ]
    },
    {
     "name": "stderr",
     "output_type": "stream",
     "text": [
      "Fold 5 Epoch 7: 100%|██████████| 147/147 [00:04<00:00, 31.10it/s]\n"
     ]
    },
    {
     "name": "stdout",
     "output_type": "stream",
     "text": [
      "🔁 Epoch 7 loss: 0.6313\n",
      "✅ F1: 0.5654, Precision: 0.5652, Recall: 0.5656\n"
     ]
    },
    {
     "name": "stderr",
     "output_type": "stream",
     "text": [
      "Fold 5 Epoch 8: 100%|██████████| 147/147 [00:04<00:00, 31.10it/s]\n"
     ]
    },
    {
     "name": "stdout",
     "output_type": "stream",
     "text": [
      "🔁 Epoch 8 loss: 0.6271\n",
      "✅ F1: 0.5458, Precision: 0.5580, Recall: 0.5492\n"
     ]
    },
    {
     "name": "stderr",
     "output_type": "stream",
     "text": [
      "Fold 5 Epoch 9: 100%|██████████| 147/147 [00:04<00:00, 31.06it/s]\n"
     ]
    },
    {
     "name": "stdout",
     "output_type": "stream",
     "text": [
      "🔁 Epoch 9 loss: 0.6197\n",
      "✅ F1: 0.5745, Precision: 0.5743, Recall: 0.5764\n"
     ]
    },
    {
     "name": "stderr",
     "output_type": "stream",
     "text": [
      "Fold 5 Epoch 10: 100%|██████████| 147/147 [00:04<00:00, 31.03it/s]\n"
     ]
    },
    {
     "name": "stdout",
     "output_type": "stream",
     "text": [
      "🔁 Epoch 10 loss: 0.6061\n",
      "✅ F1: 0.5834, Precision: 0.5879, Recall: 0.5925\n",
      "📊 Matriz de confusión:\n",
      "[[206 151]\n",
      " [ 89 138]]\n",
      "              precision    recall  f1-score   support\n",
      "\n",
      "        male       0.70      0.58      0.63       357\n",
      "      female       0.48      0.61      0.53       227\n",
      "\n",
      "    accuracy                           0.59       584\n",
      "   macro avg       0.59      0.59      0.58       584\n",
      "weighted avg       0.61      0.59      0.59       584\n",
      "\n",
      "\n",
      "📊 F1 macro por fold: [0.5964, 0.6002, 0.5972, 0.6256, 0.5834]\n",
      "🏁 F1 macro promedio final: 0.6006\n"
     ]
    }
   ],
   "source": [
    "import pandas as pd\n",
    "import numpy as np\n",
    "import random\n",
    "import torch\n",
    "from torch import nn\n",
    "from torch.utils.data import Dataset, DataLoader\n",
    "from sklearn.model_selection import StratifiedKFold\n",
    "from sklearn.preprocessing import StandardScaler\n",
    "from sklearn.metrics import f1_score, precision_score, recall_score, confusion_matrix\n",
    "from transformers import AutoTokenizer, AutoModel\n",
    "from tqdm import tqdm\n",
    "from sklearn.utils.class_weight import compute_class_weight\n",
    "from torch.optim.lr_scheduler import ReduceLROnPlateau\n",
    "\n",
    "# Semillas\n",
    "SEED = 42\n",
    "random.seed(SEED)\n",
    "np.random.seed(SEED)\n",
    "torch.manual_seed(SEED)\n",
    "torch.cuda.manual_seed_all(SEED)\n",
    "\n",
    "# Config\n",
    "MODEL_NAME = \"bert-base-uncased\"\n",
    "TARGET = \"gender\"\n",
    "CSV_PATH = \"features_linguisticas_es_con_glove_con_ideology.csv\"\n",
    "COHEN_PATH = \"cohens_results.csv\"\n",
    "COHEN_THRESHOLD = 0.10\n",
    "BATCH_SIZE = 16\n",
    "EPOCHS = 10\n",
    "LR = 3e-5\n",
    "FOLDS = 5\n",
    "EARLY_STOPPING_PATIENCE = 4\n",
    "MAX_LENGTH = 128\n",
    "\n",
    "# Datos\n",
    "df = pd.read_csv(CSV_PATH)\n",
    "cohen_df = pd.read_csv(COHEN_PATH)\n",
    "\n",
    "def normalize_gender(g):\n",
    "    if pd.isnull(g): return np.nan\n",
    "    g = str(g).strip().lower()\n",
    "    if g in [\"m\", \"male\", \"masculino\"]: return \"male\"\n",
    "    elif g in [\"f\", \"female\", \"femenino\"]: return \"female\"\n",
    "    return np.nan\n",
    "\n",
    "df[\"gender\"] = df[\"gender\"].apply(normalize_gender)\n",
    "df = df[df[\"gender\"].isin([\"male\", \"female\"])].copy()\n",
    "df[\"label\"] = df[\"gender\"].map({\"male\": 0, \"female\": 1})\n",
    "\n",
    "# Variables relevantes\n",
    "selected_vars = cohen_df[\n",
    "    (cohen_df[\"target\"] == TARGET) &\n",
    "    (cohen_df[\"cohens_d\"].abs() > COHEN_THRESHOLD)\n",
    "][\"variable\"].unique().tolist()\n",
    "\n",
    "print(f\"🔎 Usando {len(selected_vars)} variables GloVe con |d| > {COHEN_THRESHOLD}\")\n",
    "\n",
    "tokenizer = AutoTokenizer.from_pretrained(MODEL_NAME)\n",
    "text_col = \"clean_text\"\n",
    "df = df[[text_col, \"label\"] + selected_vars].dropna().reset_index(drop=True)\n",
    "\n",
    "# Dataset\n",
    "class MultiModalDataset(Dataset):\n",
    "    def __init__(self, texts, nums, labels):\n",
    "        self.texts = texts\n",
    "        self.nums = nums\n",
    "        self.labels = labels\n",
    "\n",
    "    def __len__(self):\n",
    "        return len(self.labels)\n",
    "\n",
    "    def __getitem__(self, idx):\n",
    "        enc = tokenizer(self.texts[idx], truncation=True, padding=\"max_length\", max_length=MAX_LENGTH, return_tensors=\"pt\")\n",
    "        item = {k: v.squeeze() for k, v in enc.items()}\n",
    "        item[\"nums\"] = torch.tensor(self.nums[idx], dtype=torch.float)\n",
    "        item[\"labels\"] = torch.tensor(self.labels[idx], dtype=torch.long)\n",
    "        return item\n",
    "\n",
    "# Modelo\n",
    "class TransformerWithTabular(nn.Module):\n",
    "    def __init__(self, transformer_name, num_tabular_features):\n",
    "        super().__init__()\n",
    "        self.transformer = AutoModel.from_pretrained(transformer_name)\n",
    "        for name, param in self.transformer.named_parameters():\n",
    "            if \"encoder.layer.11\" not in name:\n",
    "                param.requires_grad = False\n",
    "\n",
    "        self.tabular_net = nn.Sequential(\n",
    "            nn.Linear(num_tabular_features, 64),\n",
    "            nn.ReLU(),\n",
    "            nn.Dropout(0.3),\n",
    "            nn.Linear(64, 64)\n",
    "        )\n",
    "        self.classifier = nn.Sequential(\n",
    "            nn.Linear(768 + 64, 256),\n",
    "            nn.ReLU(),\n",
    "            nn.Dropout(0.3),\n",
    "            nn.Linear(256, 64),\n",
    "            nn.ReLU(),\n",
    "            nn.Dropout(0.2),\n",
    "            nn.Linear(64, 2)\n",
    "        )\n",
    "\n",
    "    def forward(self, input_ids, attention_mask, nums):\n",
    "        out = self.transformer(input_ids=input_ids, attention_mask=attention_mask)\n",
    "        cls_output = out.last_hidden_state[:, 0]\n",
    "        tabular_out = self.tabular_net(nums)\n",
    "        combined = torch.cat([cls_output, tabular_out], dim=1)\n",
    "        return self.classifier(combined)\n",
    "\n",
    "# Preparación\n",
    "texts = df[text_col].tolist()\n",
    "features = df[selected_vars].values.astype(np.float32)\n",
    "labels = df[\"label\"].values\n",
    "\n",
    "device = torch.device(\"cuda\" if torch.cuda.is_available() else \"cpu\")\n",
    "class_weights = compute_class_weight(\"balanced\", classes=np.unique(labels), y=labels)\n",
    "weights_tensor = torch.tensor(class_weights, dtype=torch.float).to(device)\n",
    "\n",
    "skf = StratifiedKFold(n_splits=FOLDS, shuffle=True, random_state=SEED)\n",
    "f1_scores = []\n",
    "\n",
    "# Entrenamiento\n",
    "for fold, (train_idx, val_idx) in enumerate(skf.split(texts, labels)):\n",
    "    print(f\"\\n📦 Fold {fold+1}/{FOLDS}\")\n",
    "\n",
    "    X_train_texts = [texts[i] for i in train_idx]\n",
    "    X_val_texts = [texts[i] for i in val_idx]\n",
    "    y_train = labels[train_idx]\n",
    "    y_val = labels[val_idx]\n",
    "    # Oversampling manual de la clase minoritaria (female)\n",
    "    X_train_feats_orig = features[train_idx]\n",
    "    X_val_feats = features[val_idx]\n",
    "    \n",
    "    scaler = StandardScaler()\n",
    "    X_train_feats_scaled = scaler.fit_transform(X_train_feats_orig)\n",
    "    X_val_feats_scaled = scaler.transform(X_val_feats)\n",
    "    \n",
    "    X_train_texts_aug = list(X_train_texts)\n",
    "    X_train_feats_aug = list(X_train_feats_scaled)\n",
    "    y_train_aug = list(y_train)\n",
    "    \n",
    "    # Duplicar instancias de clase 'female' (label = 1)\n",
    "    for i in range(len(y_train)):\n",
    "        if y_train[i] == 1:\n",
    "            X_train_texts_aug.append(X_train_texts[i])\n",
    "            X_train_feats_aug.append(X_train_feats_scaled[i])\n",
    "            y_train_aug.append(1)\n",
    "    \n",
    "    # Convertir a arrays\n",
    "    X_train_feats_aug = np.array(X_train_feats_aug)\n",
    "    y_train_aug = np.array(y_train_aug)\n",
    "\n",
    "    scaler = StandardScaler()\n",
    "    X_train_feats = scaler.fit_transform(features[train_idx])\n",
    "    X_val_feats = scaler.transform(features[val_idx])\n",
    "\n",
    "    train_ds = MultiModalDataset(X_train_texts, X_train_feats, y_train)\n",
    "    val_ds = MultiModalDataset(X_val_texts, X_val_feats, y_val)\n",
    "    train_dl = DataLoader(train_ds, batch_size=BATCH_SIZE, shuffle=True)\n",
    "    val_dl = DataLoader(val_ds, batch_size=BATCH_SIZE)\n",
    "\n",
    "    model = TransformerWithTabular(MODEL_NAME, len(selected_vars)).to(device)\n",
    "    opt = torch.optim.AdamW(model.parameters(), lr=LR)\n",
    "    scheduler = ReduceLROnPlateau(opt, mode='max', factor=0.5, patience=2)\n",
    "    loss_fn = nn.CrossEntropyLoss(weight=weights_tensor)\n",
    "\n",
    "    best_f1 = 0\n",
    "    patience = EARLY_STOPPING_PATIENCE\n",
    "\n",
    "    for epoch in range(EPOCHS):\n",
    "        model.train()\n",
    "        total_loss = 0\n",
    "        for batch in tqdm(train_dl, desc=f\"Fold {fold+1} Epoch {epoch+1}\"):\n",
    "            input_ids = batch[\"input_ids\"].to(device)\n",
    "            attn = batch[\"attention_mask\"].to(device)\n",
    "            nums = batch[\"nums\"].to(device)\n",
    "            lbls = batch[\"labels\"].to(device)\n",
    "\n",
    "            outputs = model(input_ids=input_ids, attention_mask=attn, nums=nums)\n",
    "            loss = loss_fn(outputs, lbls)\n",
    "\n",
    "            opt.zero_grad()\n",
    "            loss.backward()\n",
    "            opt.step()\n",
    "            total_loss += loss.item()\n",
    "        print(f\"🔁 Epoch {epoch+1} loss: {total_loss/len(train_dl):.4f}\")\n",
    "\n",
    "        model.eval()\n",
    "        all_preds, all_lbls = [], []\n",
    "        with torch.no_grad():\n",
    "            for batch in val_dl:\n",
    "                input_ids = batch[\"input_ids\"].to(device)\n",
    "                attn = batch[\"attention_mask\"].to(device)\n",
    "                nums = batch[\"nums\"].to(device)\n",
    "                lbls = batch[\"labels\"].to(device)\n",
    "\n",
    "                outputs = model(input_ids=input_ids, attention_mask=attn, nums=nums)\n",
    "                preds = torch.argmax(outputs, dim=1).cpu().numpy()\n",
    "                all_preds.extend(preds)\n",
    "                all_lbls.extend(lbls.cpu().numpy())\n",
    "\n",
    "        f1 = f1_score(all_lbls, all_preds, average=\"macro\")\n",
    "        prec = precision_score(all_lbls, all_preds, average=\"macro\", zero_division=0)\n",
    "        rec = recall_score(all_lbls, all_preds, average=\"macro\", zero_division=0)\n",
    "        print(f\"✅ F1: {f1:.4f}, Precision: {prec:.4f}, Recall: {rec:.4f}\")\n",
    "\n",
    "        scheduler.step(f1)\n",
    "\n",
    "        if f1 > best_f1:\n",
    "            best_f1 = f1\n",
    "            patience = EARLY_STOPPING_PATIENCE\n",
    "        else:\n",
    "            patience -= 1\n",
    "            if patience == 0:\n",
    "                print(\"⏹️ Early stopping\")\n",
    "                break\n",
    "\n",
    "    f1_scores.append(best_f1)\n",
    "    print(\"📊 Matriz de confusión:\")\n",
    "    print(confusion_matrix(all_lbls, all_preds))\n",
    "    from sklearn.metrics import classification_report\n",
    "    print(classification_report(all_lbls, all_preds, target_names=[\"male\", \"female\"]))\n",
    "\n",
    "# Resultados finales\n",
    "f1_avg = np.mean(f1_scores)\n",
    "print(\"\\n📊 F1 macro por fold:\", [round(f, 4) for f in f1_scores])\n",
    "print(f\"🏁 F1 macro promedio final: {f1_avg:.4f}\")\n"
   ]
  },
  {
   "cell_type": "code",
   "execution_count": 23,
   "id": "5971372d-bb68-4aed-b0b0-d788d0940d12",
   "metadata": {},
   "outputs": [
    {
     "name": "stdout",
     "output_type": "stream",
     "text": [
      "🔎 Usando 5 variables GloVe con |d| > 0.1\n",
      "\n",
      "📦 Fold 1/5\n"
     ]
    },
    {
     "name": "stderr",
     "output_type": "stream",
     "text": [
      "Fold 1 Epoch 1: 100%|██████████| 147/147 [00:04<00:00, 31.24it/s]\n"
     ]
    },
    {
     "name": "stdout",
     "output_type": "stream",
     "text": [
      "🔁 Epoch 1 loss: 0.6933\n",
      "✅ F1: 0.3790, Precision: 0.3051, Recall: 0.5000\n"
     ]
    },
    {
     "name": "stderr",
     "output_type": "stream",
     "text": [
      "Fold 1 Epoch 2: 100%|██████████| 147/147 [00:04<00:00, 31.45it/s]\n"
     ]
    },
    {
     "name": "stdout",
     "output_type": "stream",
     "text": [
      "🔁 Epoch 2 loss: 0.6926\n",
      "✅ F1: 0.4595, Precision: 0.5770, Recall: 0.5505\n"
     ]
    },
    {
     "name": "stderr",
     "output_type": "stream",
     "text": [
      "Fold 1 Epoch 3: 100%|██████████| 147/147 [00:04<00:00, 31.46it/s]\n"
     ]
    },
    {
     "name": "stdout",
     "output_type": "stream",
     "text": [
      "🔁 Epoch 3 loss: 0.6914\n",
      "✅ F1: 0.4209, Precision: 0.6421, Recall: 0.5149\n"
     ]
    },
    {
     "name": "stderr",
     "output_type": "stream",
     "text": [
      "Fold 1 Epoch 4: 100%|██████████| 147/147 [00:04<00:00, 31.47it/s]\n"
     ]
    },
    {
     "name": "stdout",
     "output_type": "stream",
     "text": [
      "🔁 Epoch 4 loss: 0.6889\n",
      "✅ F1: 0.5598, Precision: 0.5666, Recall: 0.5700\n"
     ]
    },
    {
     "name": "stderr",
     "output_type": "stream",
     "text": [
      "Fold 1 Epoch 5: 100%|██████████| 147/147 [00:04<00:00, 31.42it/s]\n"
     ]
    },
    {
     "name": "stdout",
     "output_type": "stream",
     "text": [
      "🔁 Epoch 5 loss: 0.6848\n",
      "✅ F1: 0.5593, Precision: 0.5593, Recall: 0.5609\n"
     ]
    },
    {
     "name": "stderr",
     "output_type": "stream",
     "text": [
      "Fold 1 Epoch 6: 100%|██████████| 147/147 [00:04<00:00, 31.40it/s]\n"
     ]
    },
    {
     "name": "stdout",
     "output_type": "stream",
     "text": [
      "🔁 Epoch 6 loss: 0.6751\n",
      "✅ F1: 0.5404, Precision: 0.5797, Recall: 0.5539\n"
     ]
    },
    {
     "name": "stderr",
     "output_type": "stream",
     "text": [
      "Fold 1 Epoch 7: 100%|██████████| 147/147 [00:04<00:00, 31.41it/s]\n"
     ]
    },
    {
     "name": "stdout",
     "output_type": "stream",
     "text": [
      "🔁 Epoch 7 loss: 0.6632\n",
      "✅ F1: 0.5622, Precision: 0.5633, Recall: 0.5618\n"
     ]
    },
    {
     "name": "stderr",
     "output_type": "stream",
     "text": [
      "Fold 1 Epoch 8: 100%|██████████| 147/147 [00:04<00:00, 31.42it/s]\n"
     ]
    },
    {
     "name": "stdout",
     "output_type": "stream",
     "text": [
      "🔁 Epoch 8 loss: 0.6396\n",
      "✅ F1: 0.5260, Precision: 0.5757, Recall: 0.5462\n"
     ]
    },
    {
     "name": "stderr",
     "output_type": "stream",
     "text": [
      "Fold 1 Epoch 9: 100%|██████████| 147/147 [00:04<00:00, 31.43it/s]\n"
     ]
    },
    {
     "name": "stdout",
     "output_type": "stream",
     "text": [
      "🔁 Epoch 9 loss: 0.6302\n",
      "✅ F1: 0.4901, Precision: 0.5749, Recall: 0.5319\n"
     ]
    },
    {
     "name": "stderr",
     "output_type": "stream",
     "text": [
      "Fold 1 Epoch 10: 100%|██████████| 147/147 [00:04<00:00, 31.43it/s]\n"
     ]
    },
    {
     "name": "stdout",
     "output_type": "stream",
     "text": [
      "🔁 Epoch 10 loss: 0.6044\n",
      "✅ F1: 0.5882, Precision: 0.5882, Recall: 0.5914\n",
      "📊 Matriz de confusión:\n",
      "[[225 132]\n",
      " [102 126]]\n",
      "              precision    recall  f1-score   support\n",
      "\n",
      "        male       0.69      0.63      0.66       357\n",
      "      female       0.49      0.55      0.52       228\n",
      "\n",
      "    accuracy                           0.60       585\n",
      "   macro avg       0.59      0.59      0.59       585\n",
      "weighted avg       0.61      0.60      0.60       585\n",
      "\n",
      "\n",
      "📦 Fold 2/5\n"
     ]
    },
    {
     "name": "stderr",
     "output_type": "stream",
     "text": [
      "Fold 2 Epoch 1: 100%|██████████| 147/147 [00:04<00:00, 31.27it/s]\n"
     ]
    },
    {
     "name": "stdout",
     "output_type": "stream",
     "text": [
      "🔁 Epoch 1 loss: 0.6952\n",
      "✅ F1: 0.5103, Precision: 0.5480, Recall: 0.5306\n"
     ]
    },
    {
     "name": "stderr",
     "output_type": "stream",
     "text": [
      "Fold 2 Epoch 2: 100%|██████████| 147/147 [00:04<00:00, 31.26it/s]\n"
     ]
    },
    {
     "name": "stdout",
     "output_type": "stream",
     "text": [
      "🔁 Epoch 2 loss: 0.6943\n",
      "✅ F1: 0.4784, Precision: 0.5661, Recall: 0.5260\n"
     ]
    },
    {
     "name": "stderr",
     "output_type": "stream",
     "text": [
      "Fold 2 Epoch 3: 100%|██████████| 147/147 [00:04<00:00, 31.26it/s]\n"
     ]
    },
    {
     "name": "stdout",
     "output_type": "stream",
     "text": [
      "🔁 Epoch 3 loss: 0.6897\n",
      "✅ F1: 0.5128, Precision: 0.5605, Recall: 0.5360\n"
     ]
    },
    {
     "name": "stderr",
     "output_type": "stream",
     "text": [
      "Fold 2 Epoch 4: 100%|██████████| 147/147 [00:04<00:00, 31.28it/s]\n"
     ]
    },
    {
     "name": "stdout",
     "output_type": "stream",
     "text": [
      "🔁 Epoch 4 loss: 0.6867\n",
      "✅ F1: 0.5134, Precision: 0.5581, Recall: 0.5354\n"
     ]
    },
    {
     "name": "stderr",
     "output_type": "stream",
     "text": [
      "Fold 2 Epoch 5: 100%|██████████| 147/147 [00:04<00:00, 31.28it/s]\n"
     ]
    },
    {
     "name": "stdout",
     "output_type": "stream",
     "text": [
      "🔁 Epoch 5 loss: 0.6839\n",
      "✅ F1: 0.5043, Precision: 0.5484, Recall: 0.5288\n"
     ]
    },
    {
     "name": "stderr",
     "output_type": "stream",
     "text": [
      "Fold 2 Epoch 6: 100%|██████████| 147/147 [00:04<00:00, 31.26it/s]\n"
     ]
    },
    {
     "name": "stdout",
     "output_type": "stream",
     "text": [
      "🔁 Epoch 6 loss: 0.6770\n",
      "✅ F1: 0.5277, Precision: 0.5465, Recall: 0.5477\n"
     ]
    },
    {
     "name": "stderr",
     "output_type": "stream",
     "text": [
      "Fold 2 Epoch 7: 100%|██████████| 147/147 [00:04<00:00, 31.27it/s]\n"
     ]
    },
    {
     "name": "stdout",
     "output_type": "stream",
     "text": [
      "🔁 Epoch 7 loss: 0.6672\n",
      "✅ F1: 0.5420, Precision: 0.5425, Recall: 0.5419\n"
     ]
    },
    {
     "name": "stderr",
     "output_type": "stream",
     "text": [
      "Fold 2 Epoch 8: 100%|██████████| 147/147 [00:04<00:00, 31.22it/s]\n"
     ]
    },
    {
     "name": "stdout",
     "output_type": "stream",
     "text": [
      "🔁 Epoch 8 loss: 0.6530\n",
      "✅ F1: 0.5398, Precision: 0.5403, Recall: 0.5397\n"
     ]
    },
    {
     "name": "stderr",
     "output_type": "stream",
     "text": [
      "Fold 2 Epoch 9: 100%|██████████| 147/147 [00:04<00:00, 31.25it/s]\n"
     ]
    },
    {
     "name": "stdout",
     "output_type": "stream",
     "text": [
      "🔁 Epoch 9 loss: 0.6324\n",
      "✅ F1: 0.5500, Precision: 0.5524, Recall: 0.5499\n"
     ]
    },
    {
     "name": "stderr",
     "output_type": "stream",
     "text": [
      "Fold 2 Epoch 10: 100%|██████████| 147/147 [00:04<00:00, 31.24it/s]\n"
     ]
    },
    {
     "name": "stdout",
     "output_type": "stream",
     "text": [
      "🔁 Epoch 10 loss: 0.6131\n",
      "✅ F1: 0.5385, Precision: 0.5427, Recall: 0.5393\n",
      "📊 Matriz de confusión:\n",
      "[[252 105]\n",
      " [143  85]]\n",
      "              precision    recall  f1-score   support\n",
      "\n",
      "        male       0.64      0.71      0.67       357\n",
      "      female       0.45      0.37      0.41       228\n",
      "\n",
      "    accuracy                           0.58       585\n",
      "   macro avg       0.54      0.54      0.54       585\n",
      "weighted avg       0.56      0.58      0.57       585\n",
      "\n",
      "\n",
      "📦 Fold 3/5\n"
     ]
    },
    {
     "name": "stderr",
     "output_type": "stream",
     "text": [
      "Fold 3 Epoch 1: 100%|██████████| 147/147 [00:04<00:00, 31.40it/s]\n"
     ]
    },
    {
     "name": "stdout",
     "output_type": "stream",
     "text": [
      "🔁 Epoch 1 loss: 0.6944\n",
      "✅ F1: 0.4376, Precision: 0.5088, Recall: 0.5027\n"
     ]
    },
    {
     "name": "stderr",
     "output_type": "stream",
     "text": [
      "Fold 3 Epoch 2: 100%|██████████| 147/147 [00:04<00:00, 31.44it/s]\n"
     ]
    },
    {
     "name": "stdout",
     "output_type": "stream",
     "text": [
      "🔁 Epoch 2 loss: 0.6943\n",
      "✅ F1: 0.5165, Precision: 0.5937, Recall: 0.5781\n"
     ]
    },
    {
     "name": "stderr",
     "output_type": "stream",
     "text": [
      "Fold 3 Epoch 3: 100%|██████████| 147/147 [00:04<00:00, 31.40it/s]\n"
     ]
    },
    {
     "name": "stdout",
     "output_type": "stream",
     "text": [
      "🔁 Epoch 3 loss: 0.6927\n",
      "✅ F1: 0.2796, Precision: 0.1940, Recall: 0.5000\n"
     ]
    },
    {
     "name": "stderr",
     "output_type": "stream",
     "text": [
      "Fold 3 Epoch 4: 100%|██████████| 147/147 [00:04<00:00, 31.41it/s]\n"
     ]
    },
    {
     "name": "stdout",
     "output_type": "stream",
     "text": [
      "🔁 Epoch 4 loss: 0.6905\n",
      "✅ F1: 0.5685, Precision: 0.5684, Recall: 0.5706\n"
     ]
    },
    {
     "name": "stderr",
     "output_type": "stream",
     "text": [
      "Fold 3 Epoch 5: 100%|██████████| 147/147 [00:04<00:00, 31.42it/s]\n"
     ]
    },
    {
     "name": "stdout",
     "output_type": "stream",
     "text": [
      "🔁 Epoch 5 loss: 0.6894\n",
      "✅ F1: 0.5459, Precision: 0.5487, Recall: 0.5460\n"
     ]
    },
    {
     "name": "stderr",
     "output_type": "stream",
     "text": [
      "Fold 3 Epoch 6: 100%|██████████| 147/147 [00:04<00:00, 31.36it/s]\n"
     ]
    },
    {
     "name": "stdout",
     "output_type": "stream",
     "text": [
      "🔁 Epoch 6 loss: 0.6816\n",
      "✅ F1: 0.5792, Precision: 0.5787, Recall: 0.5801\n"
     ]
    },
    {
     "name": "stderr",
     "output_type": "stream",
     "text": [
      "Fold 3 Epoch 7: 100%|██████████| 147/147 [00:04<00:00, 31.35it/s]\n"
     ]
    },
    {
     "name": "stdout",
     "output_type": "stream",
     "text": [
      "🔁 Epoch 7 loss: 0.6724\n",
      "✅ F1: 0.4971, Precision: 0.5495, Recall: 0.5269\n"
     ]
    },
    {
     "name": "stderr",
     "output_type": "stream",
     "text": [
      "Fold 3 Epoch 8: 100%|██████████| 147/147 [00:04<00:00, 31.35it/s]\n"
     ]
    },
    {
     "name": "stdout",
     "output_type": "stream",
     "text": [
      "🔁 Epoch 8 loss: 0.6566\n",
      "✅ F1: 0.5804, Precision: 0.5809, Recall: 0.5801\n"
     ]
    },
    {
     "name": "stderr",
     "output_type": "stream",
     "text": [
      "Fold 3 Epoch 9: 100%|██████████| 147/147 [00:04<00:00, 31.37it/s]\n"
     ]
    },
    {
     "name": "stdout",
     "output_type": "stream",
     "text": [
      "🔁 Epoch 9 loss: 0.6438\n",
      "✅ F1: 0.4765, Precision: 0.5921, Recall: 0.5632\n"
     ]
    },
    {
     "name": "stderr",
     "output_type": "stream",
     "text": [
      "Fold 3 Epoch 10: 100%|██████████| 147/147 [00:04<00:00, 31.38it/s]\n"
     ]
    },
    {
     "name": "stdout",
     "output_type": "stream",
     "text": [
      "🔁 Epoch 10 loss: 0.6283\n",
      "✅ F1: 0.5957, Precision: 0.5973, Recall: 0.5948\n",
      "📊 Matriz de confusión:\n",
      "[[254 104]\n",
      " [118 109]]\n",
      "              precision    recall  f1-score   support\n",
      "\n",
      "        male       0.68      0.71      0.70       358\n",
      "      female       0.51      0.48      0.50       227\n",
      "\n",
      "    accuracy                           0.62       585\n",
      "   macro avg       0.60      0.59      0.60       585\n",
      "weighted avg       0.62      0.62      0.62       585\n",
      "\n",
      "\n",
      "📦 Fold 4/5\n"
     ]
    },
    {
     "name": "stderr",
     "output_type": "stream",
     "text": [
      "Fold 4 Epoch 1: 100%|██████████| 147/147 [00:04<00:00, 31.26it/s]\n"
     ]
    },
    {
     "name": "stdout",
     "output_type": "stream",
     "text": [
      "🔁 Epoch 1 loss: 0.6940\n",
      "✅ F1: 0.4831, Precision: 0.6112, Recall: 0.5359\n"
     ]
    },
    {
     "name": "stderr",
     "output_type": "stream",
     "text": [
      "Fold 4 Epoch 2: 100%|██████████| 147/147 [00:04<00:00, 31.36it/s]\n"
     ]
    },
    {
     "name": "stdout",
     "output_type": "stream",
     "text": [
      "🔁 Epoch 2 loss: 0.6917\n",
      "✅ F1: 0.3917, Precision: 0.5566, Recall: 0.5024\n"
     ]
    },
    {
     "name": "stderr",
     "output_type": "stream",
     "text": [
      "Fold 4 Epoch 3: 100%|██████████| 147/147 [00:04<00:00, 31.36it/s]\n"
     ]
    },
    {
     "name": "stdout",
     "output_type": "stream",
     "text": [
      "🔁 Epoch 3 loss: 0.6901\n",
      "✅ F1: 0.5560, Precision: 0.5848, Recall: 0.5634\n"
     ]
    },
    {
     "name": "stderr",
     "output_type": "stream",
     "text": [
      "Fold 4 Epoch 4: 100%|██████████| 147/147 [00:04<00:00, 31.37it/s]\n"
     ]
    },
    {
     "name": "stdout",
     "output_type": "stream",
     "text": [
      "🔁 Epoch 4 loss: 0.6870\n",
      "✅ F1: 0.5786, Precision: 0.5817, Recall: 0.5778\n"
     ]
    },
    {
     "name": "stderr",
     "output_type": "stream",
     "text": [
      "Fold 4 Epoch 5: 100%|██████████| 147/147 [00:04<00:00, 31.39it/s]\n"
     ]
    },
    {
     "name": "stdout",
     "output_type": "stream",
     "text": [
      "🔁 Epoch 5 loss: 0.6797\n",
      "✅ F1: 0.5347, Precision: 0.5713, Recall: 0.5693\n"
     ]
    },
    {
     "name": "stderr",
     "output_type": "stream",
     "text": [
      "Fold 4 Epoch 6: 100%|██████████| 147/147 [00:04<00:00, 31.39it/s]\n"
     ]
    },
    {
     "name": "stdout",
     "output_type": "stream",
     "text": [
      "🔁 Epoch 6 loss: 0.6760\n",
      "✅ F1: 0.5638, Precision: 0.5861, Recall: 0.5682\n"
     ]
    },
    {
     "name": "stderr",
     "output_type": "stream",
     "text": [
      "Fold 4 Epoch 7: 100%|██████████| 147/147 [00:04<00:00, 31.37it/s]\n"
     ]
    },
    {
     "name": "stdout",
     "output_type": "stream",
     "text": [
      "🔁 Epoch 7 loss: 0.6612\n",
      "✅ F1: 0.6011, Precision: 0.6069, Recall: 0.5998\n"
     ]
    },
    {
     "name": "stderr",
     "output_type": "stream",
     "text": [
      "Fold 4 Epoch 8: 100%|██████████| 147/147 [00:04<00:00, 31.36it/s]\n"
     ]
    },
    {
     "name": "stdout",
     "output_type": "stream",
     "text": [
      "🔁 Epoch 8 loss: 0.6492\n",
      "✅ F1: 0.6066, Precision: 0.6103, Recall: 0.6052\n"
     ]
    },
    {
     "name": "stderr",
     "output_type": "stream",
     "text": [
      "Fold 4 Epoch 9: 100%|██████████| 147/147 [00:04<00:00, 31.35it/s]\n"
     ]
    },
    {
     "name": "stdout",
     "output_type": "stream",
     "text": [
      "🔁 Epoch 9 loss: 0.6335\n",
      "✅ F1: 0.5959, Precision: 0.6000, Recall: 0.6053\n"
     ]
    },
    {
     "name": "stderr",
     "output_type": "stream",
     "text": [
      "Fold 4 Epoch 10: 100%|██████████| 147/147 [00:04<00:00, 31.32it/s]\n"
     ]
    },
    {
     "name": "stdout",
     "output_type": "stream",
     "text": [
      "🔁 Epoch 10 loss: 0.6101\n",
      "✅ F1: 0.5873, Precision: 0.6061, Recall: 0.6094\n",
      "📊 Matriz de confusión:\n",
      "[[184 174]\n",
      " [ 67 160]]\n",
      "              precision    recall  f1-score   support\n",
      "\n",
      "        male       0.73      0.51      0.60       358\n",
      "      female       0.48      0.70      0.57       227\n",
      "\n",
      "    accuracy                           0.59       585\n",
      "   macro avg       0.61      0.61      0.59       585\n",
      "weighted avg       0.63      0.59      0.59       585\n",
      "\n",
      "\n",
      "📦 Fold 5/5\n"
     ]
    },
    {
     "name": "stderr",
     "output_type": "stream",
     "text": [
      "Fold 5 Epoch 1: 100%|██████████| 147/147 [00:04<00:00, 31.31it/s]\n"
     ]
    },
    {
     "name": "stdout",
     "output_type": "stream",
     "text": [
      "🔁 Epoch 1 loss: 0.6942\n",
      "✅ F1: 0.3794, Precision: 0.3057, Recall: 0.5000\n"
     ]
    },
    {
     "name": "stderr",
     "output_type": "stream",
     "text": [
      "Fold 5 Epoch 2: 100%|██████████| 147/147 [00:04<00:00, 31.41it/s]\n"
     ]
    },
    {
     "name": "stdout",
     "output_type": "stream",
     "text": [
      "🔁 Epoch 2 loss: 0.6919\n",
      "✅ F1: 0.4904, Precision: 0.5418, Recall: 0.5223\n"
     ]
    },
    {
     "name": "stderr",
     "output_type": "stream",
     "text": [
      "Fold 5 Epoch 3: 100%|██████████| 147/147 [00:04<00:00, 31.37it/s]\n"
     ]
    },
    {
     "name": "stdout",
     "output_type": "stream",
     "text": [
      "🔁 Epoch 3 loss: 0.6901\n",
      "✅ F1: 0.4273, Precision: 0.5582, Recall: 0.5104\n"
     ]
    },
    {
     "name": "stderr",
     "output_type": "stream",
     "text": [
      "Fold 5 Epoch 4: 100%|██████████| 147/147 [00:04<00:00, 31.41it/s]\n"
     ]
    },
    {
     "name": "stdout",
     "output_type": "stream",
     "text": [
      "🔁 Epoch 4 loss: 0.6869\n",
      "✅ F1: 0.5330, Precision: 0.5352, Recall: 0.5334\n"
     ]
    },
    {
     "name": "stderr",
     "output_type": "stream",
     "text": [
      "Fold 5 Epoch 5: 100%|██████████| 147/147 [00:04<00:00, 31.39it/s]\n"
     ]
    },
    {
     "name": "stdout",
     "output_type": "stream",
     "text": [
      "🔁 Epoch 5 loss: 0.6796\n",
      "✅ F1: 0.5112, Precision: 0.5633, Recall: 0.5363\n"
     ]
    },
    {
     "name": "stderr",
     "output_type": "stream",
     "text": [
      "Fold 5 Epoch 6: 100%|██████████| 147/147 [00:04<00:00, 31.39it/s]\n"
     ]
    },
    {
     "name": "stdout",
     "output_type": "stream",
     "text": [
      "🔁 Epoch 6 loss: 0.6693\n",
      "✅ F1: 0.5473, Precision: 0.5524, Recall: 0.5480\n"
     ]
    },
    {
     "name": "stderr",
     "output_type": "stream",
     "text": [
      "Fold 5 Epoch 7: 100%|██████████| 147/147 [00:04<00:00, 31.37it/s]\n"
     ]
    },
    {
     "name": "stdout",
     "output_type": "stream",
     "text": [
      "🔁 Epoch 7 loss: 0.6607\n",
      "✅ F1: 0.5450, Precision: 0.5722, Recall: 0.5537\n"
     ]
    },
    {
     "name": "stderr",
     "output_type": "stream",
     "text": [
      "Fold 5 Epoch 8: 100%|██████████| 147/147 [00:04<00:00, 31.39it/s]\n"
     ]
    },
    {
     "name": "stdout",
     "output_type": "stream",
     "text": [
      "🔁 Epoch 8 loss: 0.6503\n",
      "✅ F1: 0.5230, Precision: 0.6086, Recall: 0.5529\n"
     ]
    },
    {
     "name": "stderr",
     "output_type": "stream",
     "text": [
      "Fold 5 Epoch 9: 100%|██████████| 147/147 [00:04<00:00, 31.37it/s]\n"
     ]
    },
    {
     "name": "stdout",
     "output_type": "stream",
     "text": [
      "🔁 Epoch 9 loss: 0.6369\n",
      "✅ F1: 0.5837, Precision: 0.5940, Recall: 0.5836\n"
     ]
    },
    {
     "name": "stderr",
     "output_type": "stream",
     "text": [
      "Fold 5 Epoch 10: 100%|██████████| 147/147 [00:04<00:00, 31.38it/s]\n"
     ]
    },
    {
     "name": "stdout",
     "output_type": "stream",
     "text": [
      "🔁 Epoch 10 loss: 0.6181\n",
      "✅ F1: 0.5966, Precision: 0.6002, Recall: 0.5954\n",
      "📊 Matriz de confusión:\n",
      "[[260  97]\n",
      " [122 105]]\n",
      "              precision    recall  f1-score   support\n",
      "\n",
      "        male       0.68      0.73      0.70       357\n",
      "      female       0.52      0.46      0.49       227\n",
      "\n",
      "    accuracy                           0.62       584\n",
      "   macro avg       0.60      0.60      0.60       584\n",
      "weighted avg       0.62      0.62      0.62       584\n",
      "\n",
      "\n",
      "📊 F1 macro por fold: [0.5882, 0.55, 0.5957, 0.6066, 0.5966]\n",
      "🏁 F1 macro promedio final: 0.5874\n"
     ]
    }
   ],
   "source": [
    "import pandas as pd\n",
    "import numpy as np\n",
    "import random\n",
    "import torch\n",
    "from torch import nn\n",
    "from torch.utils.data import Dataset, DataLoader\n",
    "from sklearn.model_selection import StratifiedKFold\n",
    "from sklearn.preprocessing import StandardScaler\n",
    "from sklearn.metrics import f1_score, precision_score, recall_score, confusion_matrix\n",
    "from transformers import AutoTokenizer, AutoModel\n",
    "from tqdm import tqdm\n",
    "from sklearn.utils.class_weight import compute_class_weight\n",
    "from torch.optim.lr_scheduler import ReduceLROnPlateau\n",
    "\n",
    "# Semillas\n",
    "SEED = 42\n",
    "random.seed(SEED)\n",
    "np.random.seed(SEED)\n",
    "torch.manual_seed(SEED)\n",
    "torch.cuda.manual_seed_all(SEED)\n",
    "\n",
    "# Config\n",
    "MODEL_NAME = \"cardiffnlp/twitter-roberta-base\"\n",
    "TARGET = \"gender\"\n",
    "CSV_PATH = \"features_linguisticas_es_con_glove_con_ideology.csv\"\n",
    "COHEN_PATH = \"cohens_results.csv\"\n",
    "COHEN_THRESHOLD = 0.10\n",
    "BATCH_SIZE = 16\n",
    "EPOCHS = 10\n",
    "LR = 3e-5\n",
    "FOLDS = 5\n",
    "EARLY_STOPPING_PATIENCE = 4\n",
    "MAX_LENGTH = 128\n",
    "\n",
    "# Datos\n",
    "df = pd.read_csv(CSV_PATH)\n",
    "cohen_df = pd.read_csv(COHEN_PATH)\n",
    "\n",
    "def normalize_gender(g):\n",
    "    if pd.isnull(g): return np.nan\n",
    "    g = str(g).strip().lower()\n",
    "    if g in [\"m\", \"male\", \"masculino\"]: return \"male\"\n",
    "    elif g in [\"f\", \"female\", \"femenino\"]: return \"female\"\n",
    "    return np.nan\n",
    "\n",
    "df[\"gender\"] = df[\"gender\"].apply(normalize_gender)\n",
    "df = df[df[\"gender\"].isin([\"male\", \"female\"])].copy()\n",
    "df[\"label\"] = df[\"gender\"].map({\"male\": 0, \"female\": 1})\n",
    "\n",
    "# Variables relevantes\n",
    "selected_vars = cohen_df[\n",
    "    (cohen_df[\"target\"] == TARGET) &\n",
    "    (cohen_df[\"cohens_d\"].abs() > COHEN_THRESHOLD)\n",
    "][\"variable\"].unique().tolist()\n",
    "\n",
    "print(f\"🔎 Usando {len(selected_vars)} variables GloVe con |d| > {COHEN_THRESHOLD}\")\n",
    "\n",
    "tokenizer = AutoTokenizer.from_pretrained(MODEL_NAME)\n",
    "text_col = \"clean_text\"\n",
    "df = df[[text_col, \"label\"] + selected_vars].dropna().reset_index(drop=True)\n",
    "\n",
    "# Dataset\n",
    "class MultiModalDataset(Dataset):\n",
    "    def __init__(self, texts, nums, labels):\n",
    "        self.texts = texts\n",
    "        self.nums = nums\n",
    "        self.labels = labels\n",
    "\n",
    "    def __len__(self):\n",
    "        return len(self.labels)\n",
    "\n",
    "    def __getitem__(self, idx):\n",
    "        enc = tokenizer(self.texts[idx], truncation=True, padding=\"max_length\", max_length=MAX_LENGTH, return_tensors=\"pt\")\n",
    "        item = {k: v.squeeze() for k, v in enc.items()}\n",
    "        item[\"nums\"] = torch.tensor(self.nums[idx], dtype=torch.float)\n",
    "        item[\"labels\"] = torch.tensor(self.labels[idx], dtype=torch.long)\n",
    "        return item\n",
    "\n",
    "# Modelo\n",
    "class TransformerWithTabular(nn.Module):\n",
    "    def __init__(self, transformer_name, num_tabular_features):\n",
    "        super().__init__()\n",
    "        self.transformer = AutoModel.from_pretrained(transformer_name)\n",
    "        for name, param in self.transformer.named_parameters():\n",
    "            if \"encoder.layer.11\" not in name:\n",
    "                param.requires_grad = False\n",
    "\n",
    "        self.tabular_net = nn.Sequential(\n",
    "            nn.Linear(num_tabular_features, 64),\n",
    "            nn.ReLU(),\n",
    "            nn.Dropout(0.3),\n",
    "            nn.Linear(64, 64)\n",
    "        )\n",
    "        self.classifier = nn.Sequential(\n",
    "            nn.Linear(768 + 64, 256),\n",
    "            nn.ReLU(),\n",
    "            nn.Dropout(0.3),\n",
    "            nn.Linear(256, 64),\n",
    "            nn.ReLU(),\n",
    "            nn.Dropout(0.2),\n",
    "            nn.Linear(64, 2)\n",
    "        )\n",
    "\n",
    "    def forward(self, input_ids, attention_mask, nums):\n",
    "        out = self.transformer(input_ids=input_ids, attention_mask=attention_mask)\n",
    "        cls_output = out.last_hidden_state[:, 0]\n",
    "        tabular_out = self.tabular_net(nums)\n",
    "        combined = torch.cat([cls_output, tabular_out], dim=1)\n",
    "        return self.classifier(combined)\n",
    "\n",
    "# Preparación\n",
    "texts = df[text_col].tolist()\n",
    "features = df[selected_vars].values.astype(np.float32)\n",
    "labels = df[\"label\"].values\n",
    "\n",
    "device = torch.device(\"cuda\" if torch.cuda.is_available() else \"cpu\")\n",
    "class_weights = compute_class_weight(\"balanced\", classes=np.unique(labels), y=labels)\n",
    "weights_tensor = torch.tensor(class_weights, dtype=torch.float).to(device)\n",
    "\n",
    "skf = StratifiedKFold(n_splits=FOLDS, shuffle=True, random_state=SEED)\n",
    "f1_scores = []\n",
    "\n",
    "# Entrenamiento\n",
    "for fold, (train_idx, val_idx) in enumerate(skf.split(texts, labels)):\n",
    "    print(f\"\\n📦 Fold {fold+1}/{FOLDS}\")\n",
    "\n",
    "    X_train_texts = [texts[i] for i in train_idx]\n",
    "    X_val_texts = [texts[i] for i in val_idx]\n",
    "    y_train = labels[train_idx]\n",
    "    y_val = labels[val_idx]\n",
    "    # Oversampling manual de la clase minoritaria (female)\n",
    "    X_train_feats_orig = features[train_idx]\n",
    "    X_val_feats = features[val_idx]\n",
    "    \n",
    "    scaler = StandardScaler()\n",
    "    X_train_feats_scaled = scaler.fit_transform(X_train_feats_orig)\n",
    "    X_val_feats_scaled = scaler.transform(X_val_feats)\n",
    "    \n",
    "    X_train_texts_aug = list(X_train_texts)\n",
    "    X_train_feats_aug = list(X_train_feats_scaled)\n",
    "    y_train_aug = list(y_train)\n",
    "    \n",
    "    # Duplicar instancias de clase 'female' (label = 1)\n",
    "    for i in range(len(y_train)):\n",
    "        if y_train[i] == 1:\n",
    "            X_train_texts_aug.append(X_train_texts[i])\n",
    "            X_train_feats_aug.append(X_train_feats_scaled[i])\n",
    "            y_train_aug.append(1)\n",
    "    \n",
    "    # Convertir a arrays\n",
    "    X_train_feats_aug = np.array(X_train_feats_aug)\n",
    "    y_train_aug = np.array(y_train_aug)\n",
    "\n",
    "    scaler = StandardScaler()\n",
    "    X_train_feats = scaler.fit_transform(features[train_idx])\n",
    "    X_val_feats = scaler.transform(features[val_idx])\n",
    "\n",
    "    train_ds = MultiModalDataset(X_train_texts, X_train_feats, y_train)\n",
    "    val_ds = MultiModalDataset(X_val_texts, X_val_feats, y_val)\n",
    "    train_dl = DataLoader(train_ds, batch_size=BATCH_SIZE, shuffle=True)\n",
    "    val_dl = DataLoader(val_ds, batch_size=BATCH_SIZE)\n",
    "\n",
    "    model = TransformerWithTabular(MODEL_NAME, len(selected_vars)).to(device)\n",
    "    opt = torch.optim.AdamW(model.parameters(), lr=LR)\n",
    "    scheduler = ReduceLROnPlateau(opt, mode='max', factor=0.5, patience=2)\n",
    "    loss_fn = nn.CrossEntropyLoss(weight=weights_tensor)\n",
    "\n",
    "    best_f1 = 0\n",
    "    patience = EARLY_STOPPING_PATIENCE\n",
    "\n",
    "    for epoch in range(EPOCHS):\n",
    "        model.train()\n",
    "        total_loss = 0\n",
    "        for batch in tqdm(train_dl, desc=f\"Fold {fold+1} Epoch {epoch+1}\"):\n",
    "            input_ids = batch[\"input_ids\"].to(device)\n",
    "            attn = batch[\"attention_mask\"].to(device)\n",
    "            nums = batch[\"nums\"].to(device)\n",
    "            lbls = batch[\"labels\"].to(device)\n",
    "\n",
    "            outputs = model(input_ids=input_ids, attention_mask=attn, nums=nums)\n",
    "            loss = loss_fn(outputs, lbls)\n",
    "\n",
    "            opt.zero_grad()\n",
    "            loss.backward()\n",
    "            opt.step()\n",
    "            total_loss += loss.item()\n",
    "        print(f\"🔁 Epoch {epoch+1} loss: {total_loss/len(train_dl):.4f}\")\n",
    "\n",
    "        model.eval()\n",
    "        all_preds, all_lbls = [], []\n",
    "        with torch.no_grad():\n",
    "            for batch in val_dl:\n",
    "                input_ids = batch[\"input_ids\"].to(device)\n",
    "                attn = batch[\"attention_mask\"].to(device)\n",
    "                nums = batch[\"nums\"].to(device)\n",
    "                lbls = batch[\"labels\"].to(device)\n",
    "\n",
    "                outputs = model(input_ids=input_ids, attention_mask=attn, nums=nums)\n",
    "                preds = torch.argmax(outputs, dim=1).cpu().numpy()\n",
    "                all_preds.extend(preds)\n",
    "                all_lbls.extend(lbls.cpu().numpy())\n",
    "\n",
    "        f1 = f1_score(all_lbls, all_preds, average=\"macro\")\n",
    "        prec = precision_score(all_lbls, all_preds, average=\"macro\", zero_division=0)\n",
    "        rec = recall_score(all_lbls, all_preds, average=\"macro\", zero_division=0)\n",
    "        print(f\"✅ F1: {f1:.4f}, Precision: {prec:.4f}, Recall: {rec:.4f}\")\n",
    "\n",
    "        scheduler.step(f1)\n",
    "\n",
    "        if f1 > best_f1:\n",
    "            best_f1 = f1\n",
    "            patience = EARLY_STOPPING_PATIENCE\n",
    "        else:\n",
    "            patience -= 1\n",
    "            if patience == 0:\n",
    "                print(\"⏹️ Early stopping\")\n",
    "                break\n",
    "\n",
    "    f1_scores.append(best_f1)\n",
    "    print(\"📊 Matriz de confusión:\")\n",
    "    print(confusion_matrix(all_lbls, all_preds))\n",
    "    from sklearn.metrics import classification_report\n",
    "    print(classification_report(all_lbls, all_preds, target_names=[\"male\", \"female\"]))\n",
    "\n",
    "# Resultados finales\n",
    "f1_avg = np.mean(f1_scores)\n",
    "print(\"\\n📊 F1 macro por fold:\", [round(f, 4) for f in f1_scores])\n",
    "print(f\"🏁 F1 macro promedio final: {f1_avg:.4f}\")\n"
   ]
  },
  {
   "cell_type": "code",
   "execution_count": 20,
   "id": "7c9649d7-bd84-4891-87ab-3f0d0e933abe",
   "metadata": {},
   "outputs": [
    {
     "name": "stdout",
     "output_type": "stream",
     "text": [
      "🔎 Variables seleccionadas para 'ideology' (|d| > 0.05): ['Xwords', 'Xmax_length', 'Xstop', 'Xcharacter', 'Xcapital', 'Xpunctuation', 'Xword_par', 'Xchar_par', 'Xprep', 'Xadv', 'Xnouns', 'Xpronouns', 'Xconj', 'tweet_id']\n",
      "\n",
      "📦 Fold 1/5\n"
     ]
    },
    {
     "name": "stderr",
     "output_type": "stream",
     "text": [
      "2025-06-12 13:08:02.523687: I tensorflow/core/util/port.cc:153] oneDNN custom operations are on. You may see slightly different numerical results due to floating-point round-off errors from different computation orders. To turn them off, set the environment variable `TF_ENABLE_ONEDNN_OPTS=0`.\n",
      "2025-06-12 13:08:02.532788: E external/local_xla/xla/stream_executor/cuda/cuda_fft.cc:467] Unable to register cuFFT factory: Attempting to register factory for plugin cuFFT when one has already been registered\n",
      "WARNING: All log messages before absl::InitializeLog() is called are written to STDERR\n",
      "E0000 00:00:1749726482.548060 1674230 cuda_dnn.cc:8579] Unable to register cuDNN factory: Attempting to register factory for plugin cuDNN when one has already been registered\n",
      "E0000 00:00:1749726482.552598 1674230 cuda_blas.cc:1407] Unable to register cuBLAS factory: Attempting to register factory for plugin cuBLAS when one has already been registered\n",
      "W0000 00:00:1749726482.564969 1674230 computation_placer.cc:177] computation placer already registered. Please check linkage and avoid linking the same target more than once.\n",
      "W0000 00:00:1749726482.564988 1674230 computation_placer.cc:177] computation placer already registered. Please check linkage and avoid linking the same target more than once.\n",
      "W0000 00:00:1749726482.564990 1674230 computation_placer.cc:177] computation placer already registered. Please check linkage and avoid linking the same target more than once.\n",
      "W0000 00:00:1749726482.564992 1674230 computation_placer.cc:177] computation placer already registered. Please check linkage and avoid linking the same target more than once.\n",
      "2025-06-12 13:08:02.569162: I tensorflow/core/platform/cpu_feature_guard.cc:210] This TensorFlow binary is optimized to use available CPU instructions in performance-critical operations.\n",
      "To enable the following instructions: AVX2 AVX512F AVX512_VNNI AVX512_BF16 FMA, in other operations, rebuild TensorFlow with the appropriate compiler flags.\n",
      "Fold 1 Epoch 1: 100%|██████████| 147/147 [00:14<00:00, 10.50it/s]\n"
     ]
    },
    {
     "name": "stdout",
     "output_type": "stream",
     "text": [
      "🔁 Epoch 1 loss: 0.6918\n"
     ]
    },
    {
     "name": "stderr",
     "output_type": "stream",
     "text": [
      "Fold 1 Epoch 2: 100%|██████████| 147/147 [00:13<00:00, 10.65it/s]\n"
     ]
    },
    {
     "name": "stdout",
     "output_type": "stream",
     "text": [
      "🔁 Epoch 2 loss: 0.6724\n"
     ]
    },
    {
     "name": "stderr",
     "output_type": "stream",
     "text": [
      "Fold 1 Epoch 3: 100%|██████████| 147/147 [00:13<00:00, 10.57it/s]\n"
     ]
    },
    {
     "name": "stdout",
     "output_type": "stream",
     "text": [
      "🔁 Epoch 3 loss: 0.6081\n"
     ]
    },
    {
     "name": "stderr",
     "output_type": "stream",
     "text": [
      "Fold 1 Epoch 4: 100%|██████████| 147/147 [00:13<00:00, 10.57it/s]\n"
     ]
    },
    {
     "name": "stdout",
     "output_type": "stream",
     "text": [
      "🔁 Epoch 4 loss: 0.5364\n"
     ]
    },
    {
     "name": "stderr",
     "output_type": "stream",
     "text": [
      "Fold 1 Epoch 5: 100%|██████████| 147/147 [00:13<00:00, 10.56it/s]\n"
     ]
    },
    {
     "name": "stdout",
     "output_type": "stream",
     "text": [
      "🔁 Epoch 5 loss: 0.4488\n"
     ]
    },
    {
     "name": "stderr",
     "output_type": "stream",
     "text": [
      "Fold 1 Epoch 6: 100%|██████████| 147/147 [00:13<00:00, 10.54it/s]\n"
     ]
    },
    {
     "name": "stdout",
     "output_type": "stream",
     "text": [
      "🔁 Epoch 6 loss: 0.3557\n"
     ]
    },
    {
     "name": "stderr",
     "output_type": "stream",
     "text": [
      "Fold 1 Epoch 7: 100%|██████████| 147/147 [00:14<00:00, 10.46it/s]\n"
     ]
    },
    {
     "name": "stdout",
     "output_type": "stream",
     "text": [
      "🔁 Epoch 7 loss: 0.2689\n"
     ]
    },
    {
     "name": "stderr",
     "output_type": "stream",
     "text": [
      "Fold 1 Epoch 8: 100%|██████████| 147/147 [00:14<00:00, 10.49it/s]\n"
     ]
    },
    {
     "name": "stdout",
     "output_type": "stream",
     "text": [
      "🔁 Epoch 8 loss: 0.2028\n"
     ]
    },
    {
     "name": "stderr",
     "output_type": "stream",
     "text": [
      "Fold 1 Epoch 9: 100%|██████████| 147/147 [00:14<00:00, 10.45it/s]\n"
     ]
    },
    {
     "name": "stdout",
     "output_type": "stream",
     "text": [
      "🔁 Epoch 9 loss: 0.1417\n"
     ]
    },
    {
     "name": "stderr",
     "output_type": "stream",
     "text": [
      "Fold 1 Epoch 10: 100%|██████████| 147/147 [00:14<00:00, 10.47it/s]\n"
     ]
    },
    {
     "name": "stdout",
     "output_type": "stream",
     "text": [
      "🔁 Epoch 10 loss: 0.1309\n",
      "✅ F1 Fold 1: 0.6379\n",
      "              precision    recall  f1-score   support\n",
      "\n",
      "   izquierda       0.53      0.63      0.58       223\n",
      "     derecha       0.74      0.66      0.70       362\n",
      "\n",
      "    accuracy                           0.65       585\n",
      "   macro avg       0.64      0.64      0.64       585\n",
      "weighted avg       0.66      0.65      0.65       585\n",
      "\n",
      "\n",
      "📦 Fold 2/5\n"
     ]
    },
    {
     "name": "stderr",
     "output_type": "stream",
     "text": [
      "Fold 2 Epoch 1: 100%|██████████| 147/147 [00:14<00:00, 10.44it/s]\n"
     ]
    },
    {
     "name": "stdout",
     "output_type": "stream",
     "text": [
      "🔁 Epoch 1 loss: 0.6906\n"
     ]
    },
    {
     "name": "stderr",
     "output_type": "stream",
     "text": [
      "Fold 2 Epoch 2: 100%|██████████| 147/147 [00:14<00:00, 10.43it/s]\n"
     ]
    },
    {
     "name": "stdout",
     "output_type": "stream",
     "text": [
      "🔁 Epoch 2 loss: 0.6727\n"
     ]
    },
    {
     "name": "stderr",
     "output_type": "stream",
     "text": [
      "Fold 2 Epoch 3: 100%|██████████| 147/147 [00:14<00:00, 10.48it/s]\n"
     ]
    },
    {
     "name": "stdout",
     "output_type": "stream",
     "text": [
      "🔁 Epoch 3 loss: 0.6279\n"
     ]
    },
    {
     "name": "stderr",
     "output_type": "stream",
     "text": [
      "Fold 2 Epoch 4: 100%|██████████| 147/147 [00:14<00:00, 10.44it/s]\n"
     ]
    },
    {
     "name": "stdout",
     "output_type": "stream",
     "text": [
      "🔁 Epoch 4 loss: 0.5440\n"
     ]
    },
    {
     "name": "stderr",
     "output_type": "stream",
     "text": [
      "Fold 2 Epoch 5: 100%|██████████| 147/147 [00:14<00:00, 10.42it/s]\n"
     ]
    },
    {
     "name": "stdout",
     "output_type": "stream",
     "text": [
      "🔁 Epoch 5 loss: 0.4548\n"
     ]
    },
    {
     "name": "stderr",
     "output_type": "stream",
     "text": [
      "Fold 2 Epoch 6: 100%|██████████| 147/147 [00:14<00:00, 10.45it/s]\n"
     ]
    },
    {
     "name": "stdout",
     "output_type": "stream",
     "text": [
      "🔁 Epoch 6 loss: 0.2978\n"
     ]
    },
    {
     "name": "stderr",
     "output_type": "stream",
     "text": [
      "Fold 2 Epoch 7: 100%|██████████| 147/147 [00:14<00:00, 10.45it/s]\n"
     ]
    },
    {
     "name": "stdout",
     "output_type": "stream",
     "text": [
      "🔁 Epoch 7 loss: 0.2174\n"
     ]
    },
    {
     "name": "stderr",
     "output_type": "stream",
     "text": [
      "Fold 2 Epoch 8: 100%|██████████| 147/147 [00:14<00:00, 10.43it/s]\n"
     ]
    },
    {
     "name": "stdout",
     "output_type": "stream",
     "text": [
      "🔁 Epoch 8 loss: 0.1599\n"
     ]
    },
    {
     "name": "stderr",
     "output_type": "stream",
     "text": [
      "Fold 2 Epoch 9: 100%|██████████| 147/147 [00:14<00:00, 10.45it/s]\n"
     ]
    },
    {
     "name": "stdout",
     "output_type": "stream",
     "text": [
      "🔁 Epoch 9 loss: 0.1544\n"
     ]
    },
    {
     "name": "stderr",
     "output_type": "stream",
     "text": [
      "Fold 2 Epoch 10: 100%|██████████| 147/147 [00:14<00:00, 10.43it/s]\n"
     ]
    },
    {
     "name": "stdout",
     "output_type": "stream",
     "text": [
      "🔁 Epoch 10 loss: 0.1128\n",
      "✅ F1 Fold 2: 0.5857\n",
      "              precision    recall  f1-score   support\n",
      "\n",
      "   izquierda       0.48      0.52      0.50       223\n",
      "     derecha       0.69      0.65      0.67       362\n",
      "\n",
      "    accuracy                           0.60       585\n",
      "   macro avg       0.59      0.59      0.59       585\n",
      "weighted avg       0.61      0.60      0.61       585\n",
      "\n",
      "\n",
      "📦 Fold 3/5\n"
     ]
    },
    {
     "name": "stderr",
     "output_type": "stream",
     "text": [
      "Fold 3 Epoch 1: 100%|██████████| 147/147 [00:14<00:00, 10.42it/s]\n"
     ]
    },
    {
     "name": "stdout",
     "output_type": "stream",
     "text": [
      "🔁 Epoch 1 loss: 0.6934\n"
     ]
    },
    {
     "name": "stderr",
     "output_type": "stream",
     "text": [
      "Fold 3 Epoch 2: 100%|██████████| 147/147 [00:14<00:00, 10.41it/s]\n"
     ]
    },
    {
     "name": "stdout",
     "output_type": "stream",
     "text": [
      "🔁 Epoch 2 loss: 0.6751\n"
     ]
    },
    {
     "name": "stderr",
     "output_type": "stream",
     "text": [
      "Fold 3 Epoch 3: 100%|██████████| 147/147 [00:14<00:00, 10.41it/s]\n"
     ]
    },
    {
     "name": "stdout",
     "output_type": "stream",
     "text": [
      "🔁 Epoch 3 loss: 0.6224\n"
     ]
    },
    {
     "name": "stderr",
     "output_type": "stream",
     "text": [
      "Fold 3 Epoch 4: 100%|██████████| 147/147 [00:14<00:00, 10.42it/s]\n"
     ]
    },
    {
     "name": "stdout",
     "output_type": "stream",
     "text": [
      "🔁 Epoch 4 loss: 0.5488\n"
     ]
    },
    {
     "name": "stderr",
     "output_type": "stream",
     "text": [
      "Fold 3 Epoch 5: 100%|██████████| 147/147 [00:14<00:00, 10.42it/s]\n"
     ]
    },
    {
     "name": "stdout",
     "output_type": "stream",
     "text": [
      "🔁 Epoch 5 loss: 0.4493\n"
     ]
    },
    {
     "name": "stderr",
     "output_type": "stream",
     "text": [
      "Fold 3 Epoch 6: 100%|██████████| 147/147 [00:14<00:00, 10.41it/s]\n"
     ]
    },
    {
     "name": "stdout",
     "output_type": "stream",
     "text": [
      "🔁 Epoch 6 loss: 0.3440\n"
     ]
    },
    {
     "name": "stderr",
     "output_type": "stream",
     "text": [
      "Fold 3 Epoch 7: 100%|██████████| 147/147 [00:14<00:00, 10.45it/s]\n"
     ]
    },
    {
     "name": "stdout",
     "output_type": "stream",
     "text": [
      "🔁 Epoch 7 loss: 0.2681\n"
     ]
    },
    {
     "name": "stderr",
     "output_type": "stream",
     "text": [
      "Fold 3 Epoch 8: 100%|██████████| 147/147 [00:14<00:00, 10.41it/s]\n"
     ]
    },
    {
     "name": "stdout",
     "output_type": "stream",
     "text": [
      "🔁 Epoch 8 loss: 0.1752\n"
     ]
    },
    {
     "name": "stderr",
     "output_type": "stream",
     "text": [
      "Fold 3 Epoch 9: 100%|██████████| 147/147 [00:14<00:00, 10.41it/s]\n"
     ]
    },
    {
     "name": "stdout",
     "output_type": "stream",
     "text": [
      "🔁 Epoch 9 loss: 0.1365\n"
     ]
    },
    {
     "name": "stderr",
     "output_type": "stream",
     "text": [
      "Fold 3 Epoch 10: 100%|██████████| 147/147 [00:14<00:00, 10.42it/s]\n"
     ]
    },
    {
     "name": "stdout",
     "output_type": "stream",
     "text": [
      "🔁 Epoch 10 loss: 0.1375\n",
      "✅ F1 Fold 3: 0.6317\n",
      "              precision    recall  f1-score   support\n",
      "\n",
      "   izquierda       0.53      0.60      0.56       222\n",
      "     derecha       0.73      0.67      0.70       363\n",
      "\n",
      "    accuracy                           0.64       585\n",
      "   macro avg       0.63      0.64      0.63       585\n",
      "weighted avg       0.66      0.64      0.65       585\n",
      "\n",
      "\n",
      "📦 Fold 4/5\n"
     ]
    },
    {
     "name": "stderr",
     "output_type": "stream",
     "text": [
      "Fold 4 Epoch 1: 100%|██████████| 147/147 [00:14<00:00, 10.42it/s]\n"
     ]
    },
    {
     "name": "stdout",
     "output_type": "stream",
     "text": [
      "🔁 Epoch 1 loss: 0.6947\n"
     ]
    },
    {
     "name": "stderr",
     "output_type": "stream",
     "text": [
      "Fold 4 Epoch 2: 100%|██████████| 147/147 [00:14<00:00, 10.43it/s]\n"
     ]
    },
    {
     "name": "stdout",
     "output_type": "stream",
     "text": [
      "🔁 Epoch 2 loss: 0.6806\n"
     ]
    },
    {
     "name": "stderr",
     "output_type": "stream",
     "text": [
      "Fold 4 Epoch 3: 100%|██████████| 147/147 [00:14<00:00, 10.40it/s]\n"
     ]
    },
    {
     "name": "stdout",
     "output_type": "stream",
     "text": [
      "🔁 Epoch 3 loss: 0.6628\n"
     ]
    },
    {
     "name": "stderr",
     "output_type": "stream",
     "text": [
      "Fold 4 Epoch 4: 100%|██████████| 147/147 [00:14<00:00, 10.40it/s]\n"
     ]
    },
    {
     "name": "stdout",
     "output_type": "stream",
     "text": [
      "🔁 Epoch 4 loss: 0.6219\n"
     ]
    },
    {
     "name": "stderr",
     "output_type": "stream",
     "text": [
      "Fold 4 Epoch 5: 100%|██████████| 147/147 [00:14<00:00, 10.39it/s]\n"
     ]
    },
    {
     "name": "stdout",
     "output_type": "stream",
     "text": [
      "🔁 Epoch 5 loss: 0.5450\n"
     ]
    },
    {
     "name": "stderr",
     "output_type": "stream",
     "text": [
      "Fold 4 Epoch 6: 100%|██████████| 147/147 [00:14<00:00, 10.41it/s]\n"
     ]
    },
    {
     "name": "stdout",
     "output_type": "stream",
     "text": [
      "🔁 Epoch 6 loss: 0.4288\n"
     ]
    },
    {
     "name": "stderr",
     "output_type": "stream",
     "text": [
      "Fold 4 Epoch 7: 100%|██████████| 147/147 [00:14<00:00, 10.41it/s]\n"
     ]
    },
    {
     "name": "stdout",
     "output_type": "stream",
     "text": [
      "🔁 Epoch 7 loss: 0.3303\n"
     ]
    },
    {
     "name": "stderr",
     "output_type": "stream",
     "text": [
      "Fold 4 Epoch 8: 100%|██████████| 147/147 [00:14<00:00, 10.40it/s]\n"
     ]
    },
    {
     "name": "stdout",
     "output_type": "stream",
     "text": [
      "🔁 Epoch 8 loss: 0.2372\n"
     ]
    },
    {
     "name": "stderr",
     "output_type": "stream",
     "text": [
      "Fold 4 Epoch 9: 100%|██████████| 147/147 [00:14<00:00, 10.42it/s]\n"
     ]
    },
    {
     "name": "stdout",
     "output_type": "stream",
     "text": [
      "🔁 Epoch 9 loss: 0.1810\n"
     ]
    },
    {
     "name": "stderr",
     "output_type": "stream",
     "text": [
      "Fold 4 Epoch 10: 100%|██████████| 147/147 [00:14<00:00, 10.41it/s]\n"
     ]
    },
    {
     "name": "stdout",
     "output_type": "stream",
     "text": [
      "🔁 Epoch 10 loss: 0.1495\n",
      "✅ F1 Fold 4: 0.6766\n",
      "              precision    recall  f1-score   support\n",
      "\n",
      "   izquierda       0.58      0.67      0.62       222\n",
      "     derecha       0.77      0.70      0.74       363\n",
      "\n",
      "    accuracy                           0.69       585\n",
      "   macro avg       0.68      0.68      0.68       585\n",
      "weighted avg       0.70      0.69      0.69       585\n",
      "\n",
      "\n",
      "📦 Fold 5/5\n"
     ]
    },
    {
     "name": "stderr",
     "output_type": "stream",
     "text": [
      "Fold 5 Epoch 1: 100%|██████████| 147/147 [00:14<00:00, 10.41it/s]\n"
     ]
    },
    {
     "name": "stdout",
     "output_type": "stream",
     "text": [
      "🔁 Epoch 1 loss: 0.6935\n"
     ]
    },
    {
     "name": "stderr",
     "output_type": "stream",
     "text": [
      "Fold 5 Epoch 2: 100%|██████████| 147/147 [00:14<00:00, 10.41it/s]\n"
     ]
    },
    {
     "name": "stdout",
     "output_type": "stream",
     "text": [
      "🔁 Epoch 2 loss: 0.6859\n"
     ]
    },
    {
     "name": "stderr",
     "output_type": "stream",
     "text": [
      "Fold 5 Epoch 3: 100%|██████████| 147/147 [00:14<00:00, 10.40it/s]\n"
     ]
    },
    {
     "name": "stdout",
     "output_type": "stream",
     "text": [
      "🔁 Epoch 3 loss: 0.6521\n"
     ]
    },
    {
     "name": "stderr",
     "output_type": "stream",
     "text": [
      "Fold 5 Epoch 4: 100%|██████████| 147/147 [00:14<00:00, 10.41it/s]\n"
     ]
    },
    {
     "name": "stdout",
     "output_type": "stream",
     "text": [
      "🔁 Epoch 4 loss: 0.5559\n"
     ]
    },
    {
     "name": "stderr",
     "output_type": "stream",
     "text": [
      "Fold 5 Epoch 5: 100%|██████████| 147/147 [00:14<00:00, 10.42it/s]\n"
     ]
    },
    {
     "name": "stdout",
     "output_type": "stream",
     "text": [
      "🔁 Epoch 5 loss: 0.4337\n"
     ]
    },
    {
     "name": "stderr",
     "output_type": "stream",
     "text": [
      "Fold 5 Epoch 6: 100%|██████████| 147/147 [00:14<00:00, 10.40it/s]\n"
     ]
    },
    {
     "name": "stdout",
     "output_type": "stream",
     "text": [
      "🔁 Epoch 6 loss: 0.3097\n"
     ]
    },
    {
     "name": "stderr",
     "output_type": "stream",
     "text": [
      "Fold 5 Epoch 7: 100%|██████████| 147/147 [00:14<00:00, 10.41it/s]\n"
     ]
    },
    {
     "name": "stdout",
     "output_type": "stream",
     "text": [
      "🔁 Epoch 7 loss: 0.2104\n"
     ]
    },
    {
     "name": "stderr",
     "output_type": "stream",
     "text": [
      "Fold 5 Epoch 8: 100%|██████████| 147/147 [00:14<00:00, 10.39it/s]\n"
     ]
    },
    {
     "name": "stdout",
     "output_type": "stream",
     "text": [
      "🔁 Epoch 8 loss: 0.1971\n"
     ]
    },
    {
     "name": "stderr",
     "output_type": "stream",
     "text": [
      "Fold 5 Epoch 9: 100%|██████████| 147/147 [00:14<00:00, 10.40it/s]\n"
     ]
    },
    {
     "name": "stdout",
     "output_type": "stream",
     "text": [
      "🔁 Epoch 9 loss: 0.1114\n"
     ]
    },
    {
     "name": "stderr",
     "output_type": "stream",
     "text": [
      "Fold 5 Epoch 10: 100%|██████████| 147/147 [00:14<00:00, 10.40it/s]\n"
     ]
    },
    {
     "name": "stdout",
     "output_type": "stream",
     "text": [
      "🔁 Epoch 10 loss: 0.0953\n",
      "✅ F1 Fold 5: 0.5922\n",
      "              precision    recall  f1-score   support\n",
      "\n",
      "   izquierda       0.52      0.41      0.46       222\n",
      "     derecha       0.68      0.77      0.72       362\n",
      "\n",
      "    accuracy                           0.63       584\n",
      "   macro avg       0.60      0.59      0.59       584\n",
      "weighted avg       0.62      0.63      0.62       584\n",
      "\n",
      "\n",
      "📊 F1 macro por fold: [0.6379, 0.5857, 0.6317, 0.6766, 0.5922]\n",
      "🏁 F1 macro promedio final: 0.6248\n"
     ]
    }
   ],
   "source": [
    "import pandas as pd\n",
    "import numpy as np\n",
    "import torch\n",
    "from torch import nn\n",
    "from torch.utils.data import Dataset, DataLoader\n",
    "from sklearn.model_selection import StratifiedKFold\n",
    "from sklearn.preprocessing import StandardScaler\n",
    "from sklearn.metrics import f1_score\n",
    "from transformers import AutoTokenizer, AutoModel\n",
    "from tqdm import tqdm\n",
    "from sklearn.utils.class_weight import compute_class_weight\n",
    "\n",
    "# Configuración\n",
    "MODEL_NAME = \"cardiffnlp/twitter-roberta-base\"\n",
    "TARGET = \"ideology\"\n",
    "COHENS_D_FILE = \"cohens_results.csv\"\n",
    "BATCH_SIZE = 16\n",
    "EPOCHS = 10\n",
    "LR = 1e-5\n",
    "FOLDS = 5\n",
    "COHEN_THRESHOLD = 0.050\n",
    "\n",
    "# Leer CSVs\n",
    "df = pd.read_csv(\"features_linguisticas_es_con_glove_con_ideology.csv\")\n",
    "cohen_df = pd.read_csv(COHENS_D_FILE)\n",
    "\n",
    "\n",
    "\n",
    "# Filtrar solo izquierda / derecha\n",
    "df = df[df[\"ideology\"].isin([\"izquierda\", \"derecha\"])].copy()\n",
    "\n",
    "# Crear label binario\n",
    "df[\"label\"] = df[\"ideology\"].map({\"izquierda\": 0, \"derecha\": 1})\n",
    "\n",
    "\n",
    "# Variables con d > 0.10 para ideology, excluyendo GloVe\n",
    "selected_vars = cohen_df[\n",
    "    (cohen_df[\"target\"] == TARGET) & \n",
    "    (cohen_df[\"cohens_d\"].abs() > COHEN_THRESHOLD) &\n",
    "    (~cohen_df[\"variable\"].str.startswith(\"XWE-\"))\n",
    "][\"variable\"].unique().tolist()\n",
    "\n",
    "print(f\"🔎 Variables seleccionadas para '{TARGET}' (|d| > {COHEN_THRESHOLD}): {selected_vars}\")\n",
    "\n",
    "# Limpiar y preparar\n",
    "text_col = \"clean_text\"\n",
    "df = df[[text_col, \"label\"] + selected_vars].dropna().reset_index(drop=True)\n",
    "\n",
    "# Normalizar variables numéricas\n",
    "scaler = StandardScaler()\n",
    "df[selected_vars] = scaler.fit_transform(df[selected_vars])\n",
    "\n",
    "# Tokenizer\n",
    "tokenizer = AutoTokenizer.from_pretrained(MODEL_NAME)\n",
    "\n",
    "# Dataset personalizado\n",
    "class MultiModalDataset(Dataset):\n",
    "    def __init__(self, texts, nums, labels):\n",
    "        self.texts = texts\n",
    "        self.nums = nums\n",
    "        self.labels = labels\n",
    "\n",
    "    def __len__(self):\n",
    "        return len(self.labels)\n",
    "\n",
    "    def __getitem__(self, idx):\n",
    "        enc = tokenizer(self.texts[idx], truncation=True, padding=\"max_length\", max_length=128, return_tensors=\"pt\")\n",
    "        item = {k: v.squeeze() for k, v in enc.items()}\n",
    "        item[\"nums\"] = torch.tensor(self.nums[idx], dtype=torch.float)\n",
    "        item[\"labels\"] = torch.tensor(self.labels[idx], dtype=torch.long)\n",
    "        return item\n",
    "\n",
    "# Modelo\n",
    "class TransformerWithTabular(nn.Module):\n",
    "    def __init__(self, transformer_name, num_tabular_features):\n",
    "        super().__init__()\n",
    "        self.transformer = AutoModel.from_pretrained(transformer_name)\n",
    "        self.tabular_net = nn.Sequential(\n",
    "            nn.Linear(num_tabular_features, 64),\n",
    "            nn.ReLU(),\n",
    "            nn.Dropout(0.2),\n",
    "            nn.Linear(64, 32)\n",
    "        )\n",
    "        self.classifier = nn.Sequential(\n",
    "            nn.Linear(768 + 32, 64),\n",
    "            nn.ReLU(),\n",
    "            nn.Dropout(0.2),\n",
    "            nn.Linear(64, 2)\n",
    "        )\n",
    "\n",
    "    def forward(self, input_ids, attention_mask, nums):\n",
    "        out = self.transformer(input_ids=input_ids, attention_mask=attention_mask)\n",
    "        cls_output = out.last_hidden_state[:, 0]\n",
    "        tabular_out = self.tabular_net(nums)\n",
    "        combined = torch.cat([cls_output, tabular_out], dim=1)\n",
    "        return self.classifier(combined)\n",
    "\n",
    "# Preparar entrenamiento\n",
    "texts = df[text_col].tolist()\n",
    "features = df[selected_vars].values.astype(np.float32)\n",
    "labels = df[\"label\"].values\n",
    "\n",
    "device = torch.device(\"cuda\" if torch.cuda.is_available() else \"cpu\")\n",
    "class_weights = compute_class_weight(\"balanced\", classes=np.unique(labels), y=labels)\n",
    "weights_tensor = torch.tensor(class_weights, dtype=torch.float).to(device)\n",
    "\n",
    "skf = StratifiedKFold(n_splits=FOLDS, shuffle=True, random_state=42)\n",
    "f1_scores = []\n",
    "\n",
    "for fold, (train_idx, val_idx) in enumerate(skf.split(texts, labels)):\n",
    "    print(f\"\\n📦 Fold {fold+1}/{FOLDS}\")\n",
    "    train_ds = MultiModalDataset([texts[i] for i in train_idx], features[train_idx], labels[train_idx])\n",
    "    val_ds = MultiModalDataset([texts[i] for i in val_idx], features[val_idx], labels[val_idx])\n",
    "    train_dl = DataLoader(train_ds, batch_size=BATCH_SIZE, shuffle=True)\n",
    "    val_dl = DataLoader(val_ds, batch_size=BATCH_SIZE)\n",
    "\n",
    "    model = TransformerWithTabular(MODEL_NAME, len(selected_vars)).to(device)\n",
    "    opt = torch.optim.AdamW(model.parameters(), lr=LR)\n",
    "    loss_fn = nn.CrossEntropyLoss(weight=weights_tensor)\n",
    "\n",
    "    # Entrenamiento\n",
    "    model.train()\n",
    "    for epoch in range(EPOCHS):\n",
    "        total_loss = 0\n",
    "        for batch in tqdm(train_dl, desc=f\"Fold {fold+1} Epoch {epoch+1}\"):\n",
    "            input_ids = batch[\"input_ids\"].to(device)\n",
    "            attn = batch[\"attention_mask\"].to(device)\n",
    "            nums = batch[\"nums\"].to(device)\n",
    "            lbls = batch[\"labels\"].to(device)\n",
    "\n",
    "            outputs = model(input_ids=input_ids, attention_mask=attn, nums=nums)\n",
    "            loss = loss_fn(outputs, lbls)\n",
    "\n",
    "            opt.zero_grad()\n",
    "            loss.backward()\n",
    "            opt.step()\n",
    "            total_loss += loss.item()\n",
    "        print(f\"🔁 Epoch {epoch+1} loss: {total_loss/len(train_dl):.4f}\")\n",
    "\n",
    "    # Evaluación\n",
    "    model.eval()\n",
    "    all_preds, all_lbls = [], []\n",
    "    with torch.no_grad():\n",
    "        for batch in val_dl:\n",
    "            input_ids = batch[\"input_ids\"].to(device)\n",
    "            attn = batch[\"attention_mask\"].to(device)\n",
    "            nums = batch[\"nums\"].to(device)\n",
    "            lbls = batch[\"labels\"].to(device)\n",
    "\n",
    "            outputs = model(input_ids=input_ids, attention_mask=attn, nums=nums)\n",
    "            preds = torch.argmax(outputs, dim=1).cpu().numpy()\n",
    "            all_preds.extend(preds)\n",
    "            all_lbls.extend(lbls.cpu().numpy())\n",
    "\n",
    "    f1 = f1_score(all_lbls, all_preds, average=\"macro\")\n",
    "    f1_scores.append(f1)\n",
    "    print(f\"✅ F1 Fold {fold+1}: {f1:.4f}\")\n",
    "    from sklearn.metrics import classification_report\n",
    "    print(classification_report(all_lbls, all_preds, target_names=[\"izquierda\", \"derecha\"]))\n",
    "\n",
    "# Final\n",
    "f1_avg = np.mean(f1_scores)\n",
    "print(\"\\n📊 F1 macro por fold:\", [round(f, 4) for f in f1_scores])\n",
    "print(f\"🏁 F1 macro promedio final: {f1_avg:.4f}\")\n"
   ]
  },
  {
   "cell_type": "code",
   "execution_count": 24,
   "id": "82e3bd21-c371-4319-bbae-88708fdb4b22",
   "metadata": {},
   "outputs": [
    {
     "name": "stdout",
     "output_type": "stream",
     "text": [
      "🔎 Variables seleccionadas para 'ideology' (|d| > 0.05): ['Xwords', 'Xmax_length', 'Xstop', 'Xcharacter', 'Xcapital', 'Xpunctuation', 'Xword_par', 'Xchar_par', 'Xprep', 'Xadv', 'Xnouns', 'Xpronouns', 'Xconj', 'tweet_id']\n",
      "\n",
      "📦 Fold 1/5\n"
     ]
    },
    {
     "name": "stderr",
     "output_type": "stream",
     "text": [
      "Fold 1 Epoch 1: 100%|██████████| 147/147 [00:13<00:00, 10.83it/s]\n"
     ]
    },
    {
     "name": "stdout",
     "output_type": "stream",
     "text": [
      "🔁 Epoch 1 loss: 0.6950\n"
     ]
    },
    {
     "name": "stderr",
     "output_type": "stream",
     "text": [
      "Fold 1 Epoch 2: 100%|██████████| 147/147 [00:13<00:00, 10.76it/s]\n"
     ]
    },
    {
     "name": "stdout",
     "output_type": "stream",
     "text": [
      "🔁 Epoch 2 loss: 0.6696\n"
     ]
    },
    {
     "name": "stderr",
     "output_type": "stream",
     "text": [
      "Fold 1 Epoch 3: 100%|██████████| 147/147 [00:13<00:00, 10.75it/s]\n"
     ]
    },
    {
     "name": "stdout",
     "output_type": "stream",
     "text": [
      "🔁 Epoch 3 loss: 0.6292\n"
     ]
    },
    {
     "name": "stderr",
     "output_type": "stream",
     "text": [
      "Fold 1 Epoch 4: 100%|██████████| 147/147 [00:13<00:00, 10.75it/s]\n"
     ]
    },
    {
     "name": "stdout",
     "output_type": "stream",
     "text": [
      "🔁 Epoch 4 loss: 0.5606\n"
     ]
    },
    {
     "name": "stderr",
     "output_type": "stream",
     "text": [
      "Fold 1 Epoch 5: 100%|██████████| 147/147 [00:13<00:00, 10.76it/s]\n"
     ]
    },
    {
     "name": "stdout",
     "output_type": "stream",
     "text": [
      "🔁 Epoch 5 loss: 0.4538\n"
     ]
    },
    {
     "name": "stderr",
     "output_type": "stream",
     "text": [
      "Fold 1 Epoch 6: 100%|██████████| 147/147 [00:13<00:00, 10.76it/s]\n"
     ]
    },
    {
     "name": "stdout",
     "output_type": "stream",
     "text": [
      "🔁 Epoch 6 loss: 0.3666\n"
     ]
    },
    {
     "name": "stderr",
     "output_type": "stream",
     "text": [
      "Fold 1 Epoch 7: 100%|██████████| 147/147 [00:13<00:00, 10.76it/s]\n"
     ]
    },
    {
     "name": "stdout",
     "output_type": "stream",
     "text": [
      "🔁 Epoch 7 loss: 0.2701\n"
     ]
    },
    {
     "name": "stderr",
     "output_type": "stream",
     "text": [
      "Fold 1 Epoch 8: 100%|██████████| 147/147 [00:13<00:00, 10.75it/s]\n"
     ]
    },
    {
     "name": "stdout",
     "output_type": "stream",
     "text": [
      "🔁 Epoch 8 loss: 0.2020\n"
     ]
    },
    {
     "name": "stderr",
     "output_type": "stream",
     "text": [
      "Fold 1 Epoch 9: 100%|██████████| 147/147 [00:13<00:00, 10.76it/s]\n"
     ]
    },
    {
     "name": "stdout",
     "output_type": "stream",
     "text": [
      "🔁 Epoch 9 loss: 0.1142\n"
     ]
    },
    {
     "name": "stderr",
     "output_type": "stream",
     "text": [
      "Fold 1 Epoch 10: 100%|██████████| 147/147 [00:13<00:00, 10.74it/s]\n"
     ]
    },
    {
     "name": "stdout",
     "output_type": "stream",
     "text": [
      "🔁 Epoch 10 loss: 0.1028\n",
      "✅ F1 Fold 1: 0.6058\n",
      "              precision    recall  f1-score   support\n",
      "\n",
      "   izquierda       0.50      0.59      0.54       223\n",
      "     derecha       0.71      0.64      0.67       362\n",
      "\n",
      "    accuracy                           0.62       585\n",
      "   macro avg       0.61      0.61      0.61       585\n",
      "weighted avg       0.63      0.62      0.62       585\n",
      "\n",
      "\n",
      "📦 Fold 2/5\n"
     ]
    },
    {
     "name": "stderr",
     "output_type": "stream",
     "text": [
      "Fold 2 Epoch 1: 100%|██████████| 147/147 [00:13<00:00, 10.74it/s]\n"
     ]
    },
    {
     "name": "stdout",
     "output_type": "stream",
     "text": [
      "🔁 Epoch 1 loss: 0.6933\n"
     ]
    },
    {
     "name": "stderr",
     "output_type": "stream",
     "text": [
      "Fold 2 Epoch 2: 100%|██████████| 147/147 [00:13<00:00, 10.74it/s]\n"
     ]
    },
    {
     "name": "stdout",
     "output_type": "stream",
     "text": [
      "🔁 Epoch 2 loss: 0.6739\n"
     ]
    },
    {
     "name": "stderr",
     "output_type": "stream",
     "text": [
      "Fold 2 Epoch 3: 100%|██████████| 147/147 [00:13<00:00, 10.73it/s]\n"
     ]
    },
    {
     "name": "stdout",
     "output_type": "stream",
     "text": [
      "🔁 Epoch 3 loss: 0.6091\n"
     ]
    },
    {
     "name": "stderr",
     "output_type": "stream",
     "text": [
      "Fold 2 Epoch 4: 100%|██████████| 147/147 [00:13<00:00, 10.73it/s]\n"
     ]
    },
    {
     "name": "stdout",
     "output_type": "stream",
     "text": [
      "🔁 Epoch 4 loss: 0.4992\n"
     ]
    },
    {
     "name": "stderr",
     "output_type": "stream",
     "text": [
      "Fold 2 Epoch 5: 100%|██████████| 147/147 [00:13<00:00, 10.75it/s]\n"
     ]
    },
    {
     "name": "stdout",
     "output_type": "stream",
     "text": [
      "🔁 Epoch 5 loss: 0.3647\n"
     ]
    },
    {
     "name": "stderr",
     "output_type": "stream",
     "text": [
      "Fold 2 Epoch 6: 100%|██████████| 147/147 [00:13<00:00, 10.73it/s]\n"
     ]
    },
    {
     "name": "stdout",
     "output_type": "stream",
     "text": [
      "🔁 Epoch 6 loss: 0.2229\n"
     ]
    },
    {
     "name": "stderr",
     "output_type": "stream",
     "text": [
      "Fold 2 Epoch 7: 100%|██████████| 147/147 [00:13<00:00, 10.75it/s]\n"
     ]
    },
    {
     "name": "stdout",
     "output_type": "stream",
     "text": [
      "🔁 Epoch 7 loss: 0.1601\n"
     ]
    },
    {
     "name": "stderr",
     "output_type": "stream",
     "text": [
      "Fold 2 Epoch 8: 100%|██████████| 147/147 [00:13<00:00, 10.73it/s]\n"
     ]
    },
    {
     "name": "stdout",
     "output_type": "stream",
     "text": [
      "🔁 Epoch 8 loss: 0.0992\n"
     ]
    },
    {
     "name": "stderr",
     "output_type": "stream",
     "text": [
      "Fold 2 Epoch 9: 100%|██████████| 147/147 [00:13<00:00, 10.74it/s]\n"
     ]
    },
    {
     "name": "stdout",
     "output_type": "stream",
     "text": [
      "🔁 Epoch 9 loss: 0.0852\n"
     ]
    },
    {
     "name": "stderr",
     "output_type": "stream",
     "text": [
      "Fold 2 Epoch 10: 100%|██████████| 147/147 [00:13<00:00, 10.72it/s]\n"
     ]
    },
    {
     "name": "stdout",
     "output_type": "stream",
     "text": [
      "🔁 Epoch 10 loss: 0.0661\n",
      "✅ F1 Fold 2: 0.6174\n",
      "              precision    recall  f1-score   support\n",
      "\n",
      "   izquierda       0.53      0.52      0.53       223\n",
      "     derecha       0.71      0.71      0.71       362\n",
      "\n",
      "    accuracy                           0.64       585\n",
      "   macro avg       0.62      0.62      0.62       585\n",
      "weighted avg       0.64      0.64      0.64       585\n",
      "\n",
      "\n",
      "📦 Fold 3/5\n"
     ]
    },
    {
     "name": "stderr",
     "output_type": "stream",
     "text": [
      "Fold 3 Epoch 1: 100%|██████████| 147/147 [00:13<00:00, 10.74it/s]\n"
     ]
    },
    {
     "name": "stdout",
     "output_type": "stream",
     "text": [
      "🔁 Epoch 1 loss: 0.6918\n"
     ]
    },
    {
     "name": "stderr",
     "output_type": "stream",
     "text": [
      "Fold 3 Epoch 2: 100%|██████████| 147/147 [00:13<00:00, 10.72it/s]\n"
     ]
    },
    {
     "name": "stdout",
     "output_type": "stream",
     "text": [
      "🔁 Epoch 2 loss: 0.6689\n"
     ]
    },
    {
     "name": "stderr",
     "output_type": "stream",
     "text": [
      "Fold 3 Epoch 3: 100%|██████████| 147/147 [00:13<00:00, 10.71it/s]\n"
     ]
    },
    {
     "name": "stdout",
     "output_type": "stream",
     "text": [
      "🔁 Epoch 3 loss: 0.6222\n"
     ]
    },
    {
     "name": "stderr",
     "output_type": "stream",
     "text": [
      "Fold 3 Epoch 4: 100%|██████████| 147/147 [00:13<00:00, 10.74it/s]\n"
     ]
    },
    {
     "name": "stdout",
     "output_type": "stream",
     "text": [
      "🔁 Epoch 4 loss: 0.5368\n"
     ]
    },
    {
     "name": "stderr",
     "output_type": "stream",
     "text": [
      "Fold 3 Epoch 5: 100%|██████████| 147/147 [00:13<00:00, 10.73it/s]\n"
     ]
    },
    {
     "name": "stdout",
     "output_type": "stream",
     "text": [
      "🔁 Epoch 5 loss: 0.4298\n"
     ]
    },
    {
     "name": "stderr",
     "output_type": "stream",
     "text": [
      "Fold 3 Epoch 6: 100%|██████████| 147/147 [00:13<00:00, 10.73it/s]\n"
     ]
    },
    {
     "name": "stdout",
     "output_type": "stream",
     "text": [
      "🔁 Epoch 6 loss: 0.2915\n"
     ]
    },
    {
     "name": "stderr",
     "output_type": "stream",
     "text": [
      "Fold 3 Epoch 7: 100%|██████████| 147/147 [00:13<00:00, 10.73it/s]\n"
     ]
    },
    {
     "name": "stdout",
     "output_type": "stream",
     "text": [
      "🔁 Epoch 7 loss: 0.1741\n"
     ]
    },
    {
     "name": "stderr",
     "output_type": "stream",
     "text": [
      "Fold 3 Epoch 8: 100%|██████████| 147/147 [00:13<00:00, 10.75it/s]\n"
     ]
    },
    {
     "name": "stdout",
     "output_type": "stream",
     "text": [
      "🔁 Epoch 8 loss: 0.1307\n"
     ]
    },
    {
     "name": "stderr",
     "output_type": "stream",
     "text": [
      "Fold 3 Epoch 9: 100%|██████████| 147/147 [00:13<00:00, 10.73it/s]\n"
     ]
    },
    {
     "name": "stdout",
     "output_type": "stream",
     "text": [
      "🔁 Epoch 9 loss: 0.0833\n"
     ]
    },
    {
     "name": "stderr",
     "output_type": "stream",
     "text": [
      "Fold 3 Epoch 10: 100%|██████████| 147/147 [00:13<00:00, 10.75it/s]\n"
     ]
    },
    {
     "name": "stdout",
     "output_type": "stream",
     "text": [
      "🔁 Epoch 10 loss: 0.0812\n",
      "✅ F1 Fold 3: 0.5901\n",
      "              precision    recall  f1-score   support\n",
      "\n",
      "   izquierda       0.49      0.52      0.50       222\n",
      "     derecha       0.69      0.66      0.68       363\n",
      "\n",
      "    accuracy                           0.61       585\n",
      "   macro avg       0.59      0.59      0.59       585\n",
      "weighted avg       0.61      0.61      0.61       585\n",
      "\n",
      "\n",
      "📦 Fold 4/5\n"
     ]
    },
    {
     "name": "stderr",
     "output_type": "stream",
     "text": [
      "Fold 4 Epoch 1: 100%|██████████| 147/147 [00:13<00:00, 10.71it/s]\n"
     ]
    },
    {
     "name": "stdout",
     "output_type": "stream",
     "text": [
      "🔁 Epoch 1 loss: 0.6925\n"
     ]
    },
    {
     "name": "stderr",
     "output_type": "stream",
     "text": [
      "Fold 4 Epoch 2: 100%|██████████| 147/147 [00:13<00:00, 10.74it/s]\n"
     ]
    },
    {
     "name": "stdout",
     "output_type": "stream",
     "text": [
      "🔁 Epoch 2 loss: 0.6731\n"
     ]
    },
    {
     "name": "stderr",
     "output_type": "stream",
     "text": [
      "Fold 4 Epoch 3: 100%|██████████| 147/147 [00:13<00:00, 10.68it/s]\n"
     ]
    },
    {
     "name": "stdout",
     "output_type": "stream",
     "text": [
      "🔁 Epoch 3 loss: 0.6182\n"
     ]
    },
    {
     "name": "stderr",
     "output_type": "stream",
     "text": [
      "Fold 4 Epoch 4: 100%|██████████| 147/147 [00:13<00:00, 10.73it/s]\n"
     ]
    },
    {
     "name": "stdout",
     "output_type": "stream",
     "text": [
      "🔁 Epoch 4 loss: 0.5090\n"
     ]
    },
    {
     "name": "stderr",
     "output_type": "stream",
     "text": [
      "Fold 4 Epoch 5: 100%|██████████| 147/147 [00:13<00:00, 10.73it/s]\n"
     ]
    },
    {
     "name": "stdout",
     "output_type": "stream",
     "text": [
      "🔁 Epoch 5 loss: 0.3670\n"
     ]
    },
    {
     "name": "stderr",
     "output_type": "stream",
     "text": [
      "Fold 4 Epoch 6: 100%|██████████| 147/147 [00:13<00:00, 10.72it/s]\n"
     ]
    },
    {
     "name": "stdout",
     "output_type": "stream",
     "text": [
      "🔁 Epoch 6 loss: 0.2316\n"
     ]
    },
    {
     "name": "stderr",
     "output_type": "stream",
     "text": [
      "Fold 4 Epoch 7: 100%|██████████| 147/147 [00:13<00:00, 10.72it/s]\n"
     ]
    },
    {
     "name": "stdout",
     "output_type": "stream",
     "text": [
      "🔁 Epoch 7 loss: 0.1724\n"
     ]
    },
    {
     "name": "stderr",
     "output_type": "stream",
     "text": [
      "Fold 4 Epoch 8: 100%|██████████| 147/147 [00:13<00:00, 10.76it/s]\n"
     ]
    },
    {
     "name": "stdout",
     "output_type": "stream",
     "text": [
      "🔁 Epoch 8 loss: 0.1019\n"
     ]
    },
    {
     "name": "stderr",
     "output_type": "stream",
     "text": [
      "Fold 4 Epoch 9: 100%|██████████| 147/147 [00:13<00:00, 10.72it/s]\n"
     ]
    },
    {
     "name": "stdout",
     "output_type": "stream",
     "text": [
      "🔁 Epoch 9 loss: 0.0622\n"
     ]
    },
    {
     "name": "stderr",
     "output_type": "stream",
     "text": [
      "Fold 4 Epoch 10: 100%|██████████| 147/147 [00:13<00:00, 10.73it/s]\n"
     ]
    },
    {
     "name": "stdout",
     "output_type": "stream",
     "text": [
      "🔁 Epoch 10 loss: 0.0631\n",
      "✅ F1 Fold 4: 0.6582\n",
      "              precision    recall  f1-score   support\n",
      "\n",
      "   izquierda       0.55      0.65      0.60       222\n",
      "     derecha       0.76      0.68      0.72       363\n",
      "\n",
      "    accuracy                           0.67       585\n",
      "   macro avg       0.66      0.67      0.66       585\n",
      "weighted avg       0.68      0.67      0.67       585\n",
      "\n",
      "\n",
      "📦 Fold 5/5\n"
     ]
    },
    {
     "name": "stderr",
     "output_type": "stream",
     "text": [
      "Fold 5 Epoch 1: 100%|██████████| 147/147 [00:13<00:00, 10.74it/s]\n"
     ]
    },
    {
     "name": "stdout",
     "output_type": "stream",
     "text": [
      "🔁 Epoch 1 loss: 0.6844\n"
     ]
    },
    {
     "name": "stderr",
     "output_type": "stream",
     "text": [
      "Fold 5 Epoch 2: 100%|██████████| 147/147 [00:13<00:00, 10.74it/s]\n"
     ]
    },
    {
     "name": "stdout",
     "output_type": "stream",
     "text": [
      "🔁 Epoch 2 loss: 0.6487\n"
     ]
    },
    {
     "name": "stderr",
     "output_type": "stream",
     "text": [
      "Fold 5 Epoch 3: 100%|██████████| 147/147 [00:13<00:00, 10.72it/s]\n"
     ]
    },
    {
     "name": "stdout",
     "output_type": "stream",
     "text": [
      "🔁 Epoch 3 loss: 0.5857\n"
     ]
    },
    {
     "name": "stderr",
     "output_type": "stream",
     "text": [
      "Fold 5 Epoch 4: 100%|██████████| 147/147 [00:13<00:00, 10.72it/s]\n"
     ]
    },
    {
     "name": "stdout",
     "output_type": "stream",
     "text": [
      "🔁 Epoch 4 loss: 0.4950\n"
     ]
    },
    {
     "name": "stderr",
     "output_type": "stream",
     "text": [
      "Fold 5 Epoch 5: 100%|██████████| 147/147 [00:13<00:00, 10.75it/s]\n"
     ]
    },
    {
     "name": "stdout",
     "output_type": "stream",
     "text": [
      "🔁 Epoch 5 loss: 0.3574\n"
     ]
    },
    {
     "name": "stderr",
     "output_type": "stream",
     "text": [
      "Fold 5 Epoch 6: 100%|██████████| 147/147 [00:13<00:00, 10.76it/s]\n"
     ]
    },
    {
     "name": "stdout",
     "output_type": "stream",
     "text": [
      "🔁 Epoch 6 loss: 0.2505\n"
     ]
    },
    {
     "name": "stderr",
     "output_type": "stream",
     "text": [
      "Fold 5 Epoch 7: 100%|██████████| 147/147 [00:13<00:00, 10.73it/s]\n"
     ]
    },
    {
     "name": "stdout",
     "output_type": "stream",
     "text": [
      "🔁 Epoch 7 loss: 0.1542\n"
     ]
    },
    {
     "name": "stderr",
     "output_type": "stream",
     "text": [
      "Fold 5 Epoch 8: 100%|██████████| 147/147 [00:13<00:00, 10.73it/s]\n"
     ]
    },
    {
     "name": "stdout",
     "output_type": "stream",
     "text": [
      "🔁 Epoch 8 loss: 0.1259\n"
     ]
    },
    {
     "name": "stderr",
     "output_type": "stream",
     "text": [
      "Fold 5 Epoch 9: 100%|██████████| 147/147 [00:13<00:00, 10.74it/s]\n"
     ]
    },
    {
     "name": "stdout",
     "output_type": "stream",
     "text": [
      "🔁 Epoch 9 loss: 0.0880\n"
     ]
    },
    {
     "name": "stderr",
     "output_type": "stream",
     "text": [
      "Fold 5 Epoch 10: 100%|██████████| 147/147 [00:13<00:00, 10.72it/s]\n"
     ]
    },
    {
     "name": "stdout",
     "output_type": "stream",
     "text": [
      "🔁 Epoch 10 loss: 0.0727\n",
      "✅ F1 Fold 5: 0.5576\n",
      "              precision    recall  f1-score   support\n",
      "\n",
      "   izquierda       0.53      0.29      0.37       222\n",
      "     derecha       0.66      0.85      0.74       362\n",
      "\n",
      "    accuracy                           0.63       584\n",
      "   macro avg       0.60      0.57      0.56       584\n",
      "weighted avg       0.61      0.63      0.60       584\n",
      "\n",
      "\n",
      "📊 F1 macro por fold: [0.6058, 0.6174, 0.5901, 0.6582, 0.5576]\n",
      "🏁 F1 macro promedio final: 0.6058\n"
     ]
    }
   ],
   "source": [
    "import pandas as pd\n",
    "import numpy as np\n",
    "import torch\n",
    "from torch import nn\n",
    "from torch.utils.data import Dataset, DataLoader\n",
    "from sklearn.model_selection import StratifiedKFold\n",
    "from sklearn.preprocessing import StandardScaler\n",
    "from sklearn.metrics import f1_score\n",
    "from transformers import AutoTokenizer, AutoModel\n",
    "from tqdm import tqdm\n",
    "from sklearn.utils.class_weight import compute_class_weight\n",
    "\n",
    "# Configuración\n",
    "MODEL_NAME = \"bert-base-uncased\"\n",
    "TARGET = \"ideology\"\n",
    "COHENS_D_FILE = \"cohens_results.csv\"\n",
    "BATCH_SIZE = 16\n",
    "EPOCHS = 10\n",
    "LR = 1e-5\n",
    "FOLDS = 5\n",
    "COHEN_THRESHOLD = 0.050\n",
    "\n",
    "# Leer CSVs\n",
    "df = pd.read_csv(\"features_linguisticas_es_con_glove_con_ideology.csv\")\n",
    "cohen_df = pd.read_csv(COHENS_D_FILE)\n",
    "\n",
    "\n",
    "\n",
    "# Filtrar solo izquierda / derecha\n",
    "df = df[df[\"ideology\"].isin([\"izquierda\", \"derecha\"])].copy()\n",
    "\n",
    "# Crear label binario\n",
    "df[\"label\"] = df[\"ideology\"].map({\"izquierda\": 0, \"derecha\": 1})\n",
    "\n",
    "\n",
    "# Variables con d > 0.10 para ideology, excluyendo GloVe\n",
    "selected_vars = cohen_df[\n",
    "    (cohen_df[\"target\"] == TARGET) & \n",
    "    (cohen_df[\"cohens_d\"].abs() > COHEN_THRESHOLD) &\n",
    "    (~cohen_df[\"variable\"].str.startswith(\"XWE-\"))\n",
    "][\"variable\"].unique().tolist()\n",
    "\n",
    "print(f\"🔎 Variables seleccionadas para '{TARGET}' (|d| > {COHEN_THRESHOLD}): {selected_vars}\")\n",
    "\n",
    "# Limpiar y preparar\n",
    "text_col = \"clean_text\"\n",
    "df = df[[text_col, \"label\"] + selected_vars].dropna().reset_index(drop=True)\n",
    "\n",
    "# Normalizar variables numéricas\n",
    "scaler = StandardScaler()\n",
    "df[selected_vars] = scaler.fit_transform(df[selected_vars])\n",
    "\n",
    "# Tokenizer\n",
    "tokenizer = AutoTokenizer.from_pretrained(MODEL_NAME)\n",
    "\n",
    "# Dataset personalizado\n",
    "class MultiModalDataset(Dataset):\n",
    "    def __init__(self, texts, nums, labels):\n",
    "        self.texts = texts\n",
    "        self.nums = nums\n",
    "        self.labels = labels\n",
    "\n",
    "    def __len__(self):\n",
    "        return len(self.labels)\n",
    "\n",
    "    def __getitem__(self, idx):\n",
    "        enc = tokenizer(self.texts[idx], truncation=True, padding=\"max_length\", max_length=128, return_tensors=\"pt\")\n",
    "        item = {k: v.squeeze() for k, v in enc.items()}\n",
    "        item[\"nums\"] = torch.tensor(self.nums[idx], dtype=torch.float)\n",
    "        item[\"labels\"] = torch.tensor(self.labels[idx], dtype=torch.long)\n",
    "        return item\n",
    "\n",
    "# Modelo\n",
    "class TransformerWithTabular(nn.Module):\n",
    "    def __init__(self, transformer_name, num_tabular_features):\n",
    "        super().__init__()\n",
    "        self.transformer = AutoModel.from_pretrained(transformer_name)\n",
    "        self.tabular_net = nn.Sequential(\n",
    "            nn.Linear(num_tabular_features, 64),\n",
    "            nn.ReLU(),\n",
    "            nn.Dropout(0.2),\n",
    "            nn.Linear(64, 32)\n",
    "        )\n",
    "        self.classifier = nn.Sequential(\n",
    "            nn.Linear(768 + 32, 64),\n",
    "            nn.ReLU(),\n",
    "            nn.Dropout(0.2),\n",
    "            nn.Linear(64, 2)\n",
    "        )\n",
    "\n",
    "    def forward(self, input_ids, attention_mask, nums):\n",
    "        out = self.transformer(input_ids=input_ids, attention_mask=attention_mask)\n",
    "        cls_output = out.last_hidden_state[:, 0]\n",
    "        tabular_out = self.tabular_net(nums)\n",
    "        combined = torch.cat([cls_output, tabular_out], dim=1)\n",
    "        return self.classifier(combined)\n",
    "\n",
    "# Preparar entrenamiento\n",
    "texts = df[text_col].tolist()\n",
    "features = df[selected_vars].values.astype(np.float32)\n",
    "labels = df[\"label\"].values\n",
    "\n",
    "device = torch.device(\"cuda\" if torch.cuda.is_available() else \"cpu\")\n",
    "class_weights = compute_class_weight(\"balanced\", classes=np.unique(labels), y=labels)\n",
    "weights_tensor = torch.tensor(class_weights, dtype=torch.float).to(device)\n",
    "\n",
    "skf = StratifiedKFold(n_splits=FOLDS, shuffle=True, random_state=42)\n",
    "f1_scores = []\n",
    "\n",
    "for fold, (train_idx, val_idx) in enumerate(skf.split(texts, labels)):\n",
    "    print(f\"\\n📦 Fold {fold+1}/{FOLDS}\")\n",
    "    train_ds = MultiModalDataset([texts[i] for i in train_idx], features[train_idx], labels[train_idx])\n",
    "    val_ds = MultiModalDataset([texts[i] for i in val_idx], features[val_idx], labels[val_idx])\n",
    "    train_dl = DataLoader(train_ds, batch_size=BATCH_SIZE, shuffle=True)\n",
    "    val_dl = DataLoader(val_ds, batch_size=BATCH_SIZE)\n",
    "\n",
    "    model = TransformerWithTabular(MODEL_NAME, len(selected_vars)).to(device)\n",
    "    opt = torch.optim.AdamW(model.parameters(), lr=LR)\n",
    "    loss_fn = nn.CrossEntropyLoss(weight=weights_tensor)\n",
    "\n",
    "    # Entrenamiento\n",
    "    model.train()\n",
    "    for epoch in range(EPOCHS):\n",
    "        total_loss = 0\n",
    "        for batch in tqdm(train_dl, desc=f\"Fold {fold+1} Epoch {epoch+1}\"):\n",
    "            input_ids = batch[\"input_ids\"].to(device)\n",
    "            attn = batch[\"attention_mask\"].to(device)\n",
    "            nums = batch[\"nums\"].to(device)\n",
    "            lbls = batch[\"labels\"].to(device)\n",
    "\n",
    "            outputs = model(input_ids=input_ids, attention_mask=attn, nums=nums)\n",
    "            loss = loss_fn(outputs, lbls)\n",
    "\n",
    "            opt.zero_grad()\n",
    "            loss.backward()\n",
    "            opt.step()\n",
    "            total_loss += loss.item()\n",
    "        print(f\"🔁 Epoch {epoch+1} loss: {total_loss/len(train_dl):.4f}\")\n",
    "\n",
    "    # Evaluación\n",
    "    model.eval()\n",
    "    all_preds, all_lbls = [], []\n",
    "    with torch.no_grad():\n",
    "        for batch in val_dl:\n",
    "            input_ids = batch[\"input_ids\"].to(device)\n",
    "            attn = batch[\"attention_mask\"].to(device)\n",
    "            nums = batch[\"nums\"].to(device)\n",
    "            lbls = batch[\"labels\"].to(device)\n",
    "\n",
    "            outputs = model(input_ids=input_ids, attention_mask=attn, nums=nums)\n",
    "            preds = torch.argmax(outputs, dim=1).cpu().numpy()\n",
    "            all_preds.extend(preds)\n",
    "            all_lbls.extend(lbls.cpu().numpy())\n",
    "\n",
    "    f1 = f1_score(all_lbls, all_preds, average=\"macro\")\n",
    "    f1_scores.append(f1)\n",
    "    print(f\"✅ F1 Fold {fold+1}: {f1:.4f}\")\n",
    "    from sklearn.metrics import classification_report\n",
    "    print(classification_report(all_lbls, all_preds, target_names=[\"izquierda\", \"derecha\"]))\n",
    "\n",
    "# Final\n",
    "f1_avg = np.mean(f1_scores)\n",
    "print(\"\\n📊 F1 macro por fold:\", [round(f, 4) for f in f1_scores])\n",
    "print(f\"🏁 F1 macro promedio final: {f1_avg:.4f}\")\n"
   ]
  },
  {
   "cell_type": "code",
   "execution_count": null,
   "id": "32d4c72b-672f-4f6d-beaa-d3e1d397c89b",
   "metadata": {},
   "outputs": [],
   "source": []
  }
 ],
 "metadata": {
  "kernelspec": {
   "display_name": "Python 3 (ipykernel)",
   "language": "python",
   "name": "python3"
  },
  "language_info": {
   "codemirror_mode": {
    "name": "ipython",
    "version": 3
   },
   "file_extension": ".py",
   "mimetype": "text/x-python",
   "name": "python",
   "nbconvert_exporter": "python",
   "pygments_lexer": "ipython3",
   "version": "3.12.6"
  }
 },
 "nbformat": 4,
 "nbformat_minor": 5
}
